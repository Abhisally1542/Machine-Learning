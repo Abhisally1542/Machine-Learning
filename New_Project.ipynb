{
  "cells": [
    {
      "cell_type": "code",
      "execution_count": 4,
      "metadata": {
        "id": "1LjP3jwip_pJ"
      },
      "outputs": [],
      "source": [
        "import pandas as pd\n",
        "import numpy as np\n",
        "import seaborn as sns\n",
        "import warnings\n",
        "warnings.filterwarnings('ignore')\n",
        "from sklearn.svm import SVC\n",
        "import matplotlib.pyplot as plt\n",
        "from xgboost import XGBClassifier\n",
        "from sklearn.naive_bayes import GaussianNB\n",
        "from sklearn.metrics import accuracy_score\n",
        "from sklearn.metrics import confusion_matrix\n",
        "from sklearn.tree import DecisionTreeClassifier\n",
        "from sklearn.preprocessing import StandardScaler\n",
        "from sklearn.model_selection import GridSearchCV\n",
        "from sklearn.metrics import classification_report\n",
        "from sklearn.neighbors import KNeighborsClassifier\n",
        "from sklearn.linear_model import LogisticRegression\n",
        "from sklearn.ensemble import RandomForestClassifier\n",
        "from sklearn.model_selection import train_test_split\n",
        "from sklearn.ensemble import GradientBoostingClassifier\n",
        "from sklearn.metrics import accuracy_score, confusion_matrix, classification_report"
      ]
    },
    {
      "cell_type": "code",
      "execution_count": 5,
      "metadata": {
        "id": "giUb2QNRqOF5"
      },
      "outputs": [],
      "source": [
        "data=pd.read_csv('/content/machine_failure_dataset.csv')"
      ]
    },
    {
      "cell_type": "code",
      "execution_count": 6,
      "metadata": {
        "colab": {
          "base_uri": "https://localhost:8080/",
          "height": 424
        },
        "id": "dEOvCO9trZnE",
        "outputId": "92134d67-aa79-4d54-f91c-fea62347f33d"
      },
      "outputs": [
        {
          "output_type": "execute_result",
          "data": {
            "text/plain": [
              "      Temperature    Pressure   Humidity  Vibration       Load          RPM  \\\n",
              "0       74.967142   89.822579  23.339984  -0.482834  89.643278  1369.495253   \n",
              "1       68.617357   95.417508  79.146056   9.302049  86.990731  1499.931090   \n",
              "2       76.476885   91.039284  68.001109   4.425389  61.706026  1820.233075   \n",
              "3       85.230299  101.656271  72.128544   4.620865  66.000226  1663.406770   \n",
              "4       67.658466  117.957678  61.657657   4.879968  89.431410  1724.710439   \n",
              "...           ...         ...        ...        ...        ...          ...   \n",
              "9995    83.011021  105.817410  73.616846   1.191814  61.321967  1238.628081   \n",
              "9996    50.016550  120.660499  59.011883   5.172053  64.108471  1473.939828   \n",
              "9997    62.946833  105.675310  64.331416   7.660256  98.911820  1787.528210   \n",
              "9998    74.957656  125.702946  57.299688   1.408770  67.146838  1368.844725   \n",
              "9999    76.443885   75.701203  43.192358   5.257256  80.806378  1278.102521   \n",
              "\n",
              "      Oil_Quality  Failure  \n",
              "0        0.049030        0  \n",
              "1        0.501811        0  \n",
              "2        0.649667        0  \n",
              "3        0.424483        1  \n",
              "4        0.563205        0  \n",
              "...           ...      ...  \n",
              "9995     0.589798        0  \n",
              "9996     0.715923        0  \n",
              "9997     0.645707        0  \n",
              "9998     0.069505        1  \n",
              "9999     0.112830        0  \n",
              "\n",
              "[10000 rows x 8 columns]"
            ],
            "text/html": [
              "\n",
              "  <div id=\"df-e634e388-7a9e-4d98-8eb7-7a58e6ee3539\" class=\"colab-df-container\">\n",
              "    <div>\n",
              "<style scoped>\n",
              "    .dataframe tbody tr th:only-of-type {\n",
              "        vertical-align: middle;\n",
              "    }\n",
              "\n",
              "    .dataframe tbody tr th {\n",
              "        vertical-align: top;\n",
              "    }\n",
              "\n",
              "    .dataframe thead th {\n",
              "        text-align: right;\n",
              "    }\n",
              "</style>\n",
              "<table border=\"1\" class=\"dataframe\">\n",
              "  <thead>\n",
              "    <tr style=\"text-align: right;\">\n",
              "      <th></th>\n",
              "      <th>Temperature</th>\n",
              "      <th>Pressure</th>\n",
              "      <th>Humidity</th>\n",
              "      <th>Vibration</th>\n",
              "      <th>Load</th>\n",
              "      <th>RPM</th>\n",
              "      <th>Oil_Quality</th>\n",
              "      <th>Failure</th>\n",
              "    </tr>\n",
              "  </thead>\n",
              "  <tbody>\n",
              "    <tr>\n",
              "      <th>0</th>\n",
              "      <td>74.967142</td>\n",
              "      <td>89.822579</td>\n",
              "      <td>23.339984</td>\n",
              "      <td>-0.482834</td>\n",
              "      <td>89.643278</td>\n",
              "      <td>1369.495253</td>\n",
              "      <td>0.049030</td>\n",
              "      <td>0</td>\n",
              "    </tr>\n",
              "    <tr>\n",
              "      <th>1</th>\n",
              "      <td>68.617357</td>\n",
              "      <td>95.417508</td>\n",
              "      <td>79.146056</td>\n",
              "      <td>9.302049</td>\n",
              "      <td>86.990731</td>\n",
              "      <td>1499.931090</td>\n",
              "      <td>0.501811</td>\n",
              "      <td>0</td>\n",
              "    </tr>\n",
              "    <tr>\n",
              "      <th>2</th>\n",
              "      <td>76.476885</td>\n",
              "      <td>91.039284</td>\n",
              "      <td>68.001109</td>\n",
              "      <td>4.425389</td>\n",
              "      <td>61.706026</td>\n",
              "      <td>1820.233075</td>\n",
              "      <td>0.649667</td>\n",
              "      <td>0</td>\n",
              "    </tr>\n",
              "    <tr>\n",
              "      <th>3</th>\n",
              "      <td>85.230299</td>\n",
              "      <td>101.656271</td>\n",
              "      <td>72.128544</td>\n",
              "      <td>4.620865</td>\n",
              "      <td>66.000226</td>\n",
              "      <td>1663.406770</td>\n",
              "      <td>0.424483</td>\n",
              "      <td>1</td>\n",
              "    </tr>\n",
              "    <tr>\n",
              "      <th>4</th>\n",
              "      <td>67.658466</td>\n",
              "      <td>117.957678</td>\n",
              "      <td>61.657657</td>\n",
              "      <td>4.879968</td>\n",
              "      <td>89.431410</td>\n",
              "      <td>1724.710439</td>\n",
              "      <td>0.563205</td>\n",
              "      <td>0</td>\n",
              "    </tr>\n",
              "    <tr>\n",
              "      <th>...</th>\n",
              "      <td>...</td>\n",
              "      <td>...</td>\n",
              "      <td>...</td>\n",
              "      <td>...</td>\n",
              "      <td>...</td>\n",
              "      <td>...</td>\n",
              "      <td>...</td>\n",
              "      <td>...</td>\n",
              "    </tr>\n",
              "    <tr>\n",
              "      <th>9995</th>\n",
              "      <td>83.011021</td>\n",
              "      <td>105.817410</td>\n",
              "      <td>73.616846</td>\n",
              "      <td>1.191814</td>\n",
              "      <td>61.321967</td>\n",
              "      <td>1238.628081</td>\n",
              "      <td>0.589798</td>\n",
              "      <td>0</td>\n",
              "    </tr>\n",
              "    <tr>\n",
              "      <th>9996</th>\n",
              "      <td>50.016550</td>\n",
              "      <td>120.660499</td>\n",
              "      <td>59.011883</td>\n",
              "      <td>5.172053</td>\n",
              "      <td>64.108471</td>\n",
              "      <td>1473.939828</td>\n",
              "      <td>0.715923</td>\n",
              "      <td>0</td>\n",
              "    </tr>\n",
              "    <tr>\n",
              "      <th>9997</th>\n",
              "      <td>62.946833</td>\n",
              "      <td>105.675310</td>\n",
              "      <td>64.331416</td>\n",
              "      <td>7.660256</td>\n",
              "      <td>98.911820</td>\n",
              "      <td>1787.528210</td>\n",
              "      <td>0.645707</td>\n",
              "      <td>0</td>\n",
              "    </tr>\n",
              "    <tr>\n",
              "      <th>9998</th>\n",
              "      <td>74.957656</td>\n",
              "      <td>125.702946</td>\n",
              "      <td>57.299688</td>\n",
              "      <td>1.408770</td>\n",
              "      <td>67.146838</td>\n",
              "      <td>1368.844725</td>\n",
              "      <td>0.069505</td>\n",
              "      <td>1</td>\n",
              "    </tr>\n",
              "    <tr>\n",
              "      <th>9999</th>\n",
              "      <td>76.443885</td>\n",
              "      <td>75.701203</td>\n",
              "      <td>43.192358</td>\n",
              "      <td>5.257256</td>\n",
              "      <td>80.806378</td>\n",
              "      <td>1278.102521</td>\n",
              "      <td>0.112830</td>\n",
              "      <td>0</td>\n",
              "    </tr>\n",
              "  </tbody>\n",
              "</table>\n",
              "<p>10000 rows × 8 columns</p>\n",
              "</div>\n",
              "    <div class=\"colab-df-buttons\">\n",
              "\n",
              "  <div class=\"colab-df-container\">\n",
              "    <button class=\"colab-df-convert\" onclick=\"convertToInteractive('df-e634e388-7a9e-4d98-8eb7-7a58e6ee3539')\"\n",
              "            title=\"Convert this dataframe to an interactive table.\"\n",
              "            style=\"display:none;\">\n",
              "\n",
              "  <svg xmlns=\"http://www.w3.org/2000/svg\" height=\"24px\" viewBox=\"0 -960 960 960\">\n",
              "    <path d=\"M120-120v-720h720v720H120Zm60-500h600v-160H180v160Zm220 220h160v-160H400v160Zm0 220h160v-160H400v160ZM180-400h160v-160H180v160Zm440 0h160v-160H620v160ZM180-180h160v-160H180v160Zm440 0h160v-160H620v160Z\"/>\n",
              "  </svg>\n",
              "    </button>\n",
              "\n",
              "  <style>\n",
              "    .colab-df-container {\n",
              "      display:flex;\n",
              "      gap: 12px;\n",
              "    }\n",
              "\n",
              "    .colab-df-convert {\n",
              "      background-color: #E8F0FE;\n",
              "      border: none;\n",
              "      border-radius: 50%;\n",
              "      cursor: pointer;\n",
              "      display: none;\n",
              "      fill: #1967D2;\n",
              "      height: 32px;\n",
              "      padding: 0 0 0 0;\n",
              "      width: 32px;\n",
              "    }\n",
              "\n",
              "    .colab-df-convert:hover {\n",
              "      background-color: #E2EBFA;\n",
              "      box-shadow: 0px 1px 2px rgba(60, 64, 67, 0.3), 0px 1px 3px 1px rgba(60, 64, 67, 0.15);\n",
              "      fill: #174EA6;\n",
              "    }\n",
              "\n",
              "    .colab-df-buttons div {\n",
              "      margin-bottom: 4px;\n",
              "    }\n",
              "\n",
              "    [theme=dark] .colab-df-convert {\n",
              "      background-color: #3B4455;\n",
              "      fill: #D2E3FC;\n",
              "    }\n",
              "\n",
              "    [theme=dark] .colab-df-convert:hover {\n",
              "      background-color: #434B5C;\n",
              "      box-shadow: 0px 1px 3px 1px rgba(0, 0, 0, 0.15);\n",
              "      filter: drop-shadow(0px 1px 2px rgba(0, 0, 0, 0.3));\n",
              "      fill: #FFFFFF;\n",
              "    }\n",
              "  </style>\n",
              "\n",
              "    <script>\n",
              "      const buttonEl =\n",
              "        document.querySelector('#df-e634e388-7a9e-4d98-8eb7-7a58e6ee3539 button.colab-df-convert');\n",
              "      buttonEl.style.display =\n",
              "        google.colab.kernel.accessAllowed ? 'block' : 'none';\n",
              "\n",
              "      async function convertToInteractive(key) {\n",
              "        const element = document.querySelector('#df-e634e388-7a9e-4d98-8eb7-7a58e6ee3539');\n",
              "        const dataTable =\n",
              "          await google.colab.kernel.invokeFunction('convertToInteractive',\n",
              "                                                    [key], {});\n",
              "        if (!dataTable) return;\n",
              "\n",
              "        const docLinkHtml = 'Like what you see? Visit the ' +\n",
              "          '<a target=\"_blank\" href=https://colab.research.google.com/notebooks/data_table.ipynb>data table notebook</a>'\n",
              "          + ' to learn more about interactive tables.';\n",
              "        element.innerHTML = '';\n",
              "        dataTable['output_type'] = 'display_data';\n",
              "        await google.colab.output.renderOutput(dataTable, element);\n",
              "        const docLink = document.createElement('div');\n",
              "        docLink.innerHTML = docLinkHtml;\n",
              "        element.appendChild(docLink);\n",
              "      }\n",
              "    </script>\n",
              "  </div>\n",
              "\n",
              "\n",
              "<div id=\"df-e940aa95-afca-4f0e-84f7-079af425aa4b\">\n",
              "  <button class=\"colab-df-quickchart\" onclick=\"quickchart('df-e940aa95-afca-4f0e-84f7-079af425aa4b')\"\n",
              "            title=\"Suggest charts\"\n",
              "            style=\"display:none;\">\n",
              "\n",
              "<svg xmlns=\"http://www.w3.org/2000/svg\" height=\"24px\"viewBox=\"0 0 24 24\"\n",
              "     width=\"24px\">\n",
              "    <g>\n",
              "        <path d=\"M19 3H5c-1.1 0-2 .9-2 2v14c0 1.1.9 2 2 2h14c1.1 0 2-.9 2-2V5c0-1.1-.9-2-2-2zM9 17H7v-7h2v7zm4 0h-2V7h2v10zm4 0h-2v-4h2v4z\"/>\n",
              "    </g>\n",
              "</svg>\n",
              "  </button>\n",
              "\n",
              "<style>\n",
              "  .colab-df-quickchart {\n",
              "      --bg-color: #E8F0FE;\n",
              "      --fill-color: #1967D2;\n",
              "      --hover-bg-color: #E2EBFA;\n",
              "      --hover-fill-color: #174EA6;\n",
              "      --disabled-fill-color: #AAA;\n",
              "      --disabled-bg-color: #DDD;\n",
              "  }\n",
              "\n",
              "  [theme=dark] .colab-df-quickchart {\n",
              "      --bg-color: #3B4455;\n",
              "      --fill-color: #D2E3FC;\n",
              "      --hover-bg-color: #434B5C;\n",
              "      --hover-fill-color: #FFFFFF;\n",
              "      --disabled-bg-color: #3B4455;\n",
              "      --disabled-fill-color: #666;\n",
              "  }\n",
              "\n",
              "  .colab-df-quickchart {\n",
              "    background-color: var(--bg-color);\n",
              "    border: none;\n",
              "    border-radius: 50%;\n",
              "    cursor: pointer;\n",
              "    display: none;\n",
              "    fill: var(--fill-color);\n",
              "    height: 32px;\n",
              "    padding: 0;\n",
              "    width: 32px;\n",
              "  }\n",
              "\n",
              "  .colab-df-quickchart:hover {\n",
              "    background-color: var(--hover-bg-color);\n",
              "    box-shadow: 0 1px 2px rgba(60, 64, 67, 0.3), 0 1px 3px 1px rgba(60, 64, 67, 0.15);\n",
              "    fill: var(--button-hover-fill-color);\n",
              "  }\n",
              "\n",
              "  .colab-df-quickchart-complete:disabled,\n",
              "  .colab-df-quickchart-complete:disabled:hover {\n",
              "    background-color: var(--disabled-bg-color);\n",
              "    fill: var(--disabled-fill-color);\n",
              "    box-shadow: none;\n",
              "  }\n",
              "\n",
              "  .colab-df-spinner {\n",
              "    border: 2px solid var(--fill-color);\n",
              "    border-color: transparent;\n",
              "    border-bottom-color: var(--fill-color);\n",
              "    animation:\n",
              "      spin 1s steps(1) infinite;\n",
              "  }\n",
              "\n",
              "  @keyframes spin {\n",
              "    0% {\n",
              "      border-color: transparent;\n",
              "      border-bottom-color: var(--fill-color);\n",
              "      border-left-color: var(--fill-color);\n",
              "    }\n",
              "    20% {\n",
              "      border-color: transparent;\n",
              "      border-left-color: var(--fill-color);\n",
              "      border-top-color: var(--fill-color);\n",
              "    }\n",
              "    30% {\n",
              "      border-color: transparent;\n",
              "      border-left-color: var(--fill-color);\n",
              "      border-top-color: var(--fill-color);\n",
              "      border-right-color: var(--fill-color);\n",
              "    }\n",
              "    40% {\n",
              "      border-color: transparent;\n",
              "      border-right-color: var(--fill-color);\n",
              "      border-top-color: var(--fill-color);\n",
              "    }\n",
              "    60% {\n",
              "      border-color: transparent;\n",
              "      border-right-color: var(--fill-color);\n",
              "    }\n",
              "    80% {\n",
              "      border-color: transparent;\n",
              "      border-right-color: var(--fill-color);\n",
              "      border-bottom-color: var(--fill-color);\n",
              "    }\n",
              "    90% {\n",
              "      border-color: transparent;\n",
              "      border-bottom-color: var(--fill-color);\n",
              "    }\n",
              "  }\n",
              "</style>\n",
              "\n",
              "  <script>\n",
              "    async function quickchart(key) {\n",
              "      const quickchartButtonEl =\n",
              "        document.querySelector('#' + key + ' button');\n",
              "      quickchartButtonEl.disabled = true;  // To prevent multiple clicks.\n",
              "      quickchartButtonEl.classList.add('colab-df-spinner');\n",
              "      try {\n",
              "        const charts = await google.colab.kernel.invokeFunction(\n",
              "            'suggestCharts', [key], {});\n",
              "      } catch (error) {\n",
              "        console.error('Error during call to suggestCharts:', error);\n",
              "      }\n",
              "      quickchartButtonEl.classList.remove('colab-df-spinner');\n",
              "      quickchartButtonEl.classList.add('colab-df-quickchart-complete');\n",
              "    }\n",
              "    (() => {\n",
              "      let quickchartButtonEl =\n",
              "        document.querySelector('#df-e940aa95-afca-4f0e-84f7-079af425aa4b button');\n",
              "      quickchartButtonEl.style.display =\n",
              "        google.colab.kernel.accessAllowed ? 'block' : 'none';\n",
              "    })();\n",
              "  </script>\n",
              "</div>\n",
              "\n",
              "  <div id=\"id_4ff2d7bd-9a16-42f5-93dc-1eb061224c12\">\n",
              "    <style>\n",
              "      .colab-df-generate {\n",
              "        background-color: #E8F0FE;\n",
              "        border: none;\n",
              "        border-radius: 50%;\n",
              "        cursor: pointer;\n",
              "        display: none;\n",
              "        fill: #1967D2;\n",
              "        height: 32px;\n",
              "        padding: 0 0 0 0;\n",
              "        width: 32px;\n",
              "      }\n",
              "\n",
              "      .colab-df-generate:hover {\n",
              "        background-color: #E2EBFA;\n",
              "        box-shadow: 0px 1px 2px rgba(60, 64, 67, 0.3), 0px 1px 3px 1px rgba(60, 64, 67, 0.15);\n",
              "        fill: #174EA6;\n",
              "      }\n",
              "\n",
              "      [theme=dark] .colab-df-generate {\n",
              "        background-color: #3B4455;\n",
              "        fill: #D2E3FC;\n",
              "      }\n",
              "\n",
              "      [theme=dark] .colab-df-generate:hover {\n",
              "        background-color: #434B5C;\n",
              "        box-shadow: 0px 1px 3px 1px rgba(0, 0, 0, 0.15);\n",
              "        filter: drop-shadow(0px 1px 2px rgba(0, 0, 0, 0.3));\n",
              "        fill: #FFFFFF;\n",
              "      }\n",
              "    </style>\n",
              "    <button class=\"colab-df-generate\" onclick=\"generateWithVariable('data')\"\n",
              "            title=\"Generate code using this dataframe.\"\n",
              "            style=\"display:none;\">\n",
              "\n",
              "  <svg xmlns=\"http://www.w3.org/2000/svg\" height=\"24px\"viewBox=\"0 0 24 24\"\n",
              "       width=\"24px\">\n",
              "    <path d=\"M7,19H8.4L18.45,9,17,7.55,7,17.6ZM5,21V16.75L18.45,3.32a2,2,0,0,1,2.83,0l1.4,1.43a1.91,1.91,0,0,1,.58,1.4,1.91,1.91,0,0,1-.58,1.4L9.25,21ZM18.45,9,17,7.55Zm-12,3A5.31,5.31,0,0,0,4.9,8.1,5.31,5.31,0,0,0,1,6.5,5.31,5.31,0,0,0,4.9,4.9,5.31,5.31,0,0,0,6.5,1,5.31,5.31,0,0,0,8.1,4.9,5.31,5.31,0,0,0,12,6.5,5.46,5.46,0,0,0,6.5,12Z\"/>\n",
              "  </svg>\n",
              "    </button>\n",
              "    <script>\n",
              "      (() => {\n",
              "      const buttonEl =\n",
              "        document.querySelector('#id_4ff2d7bd-9a16-42f5-93dc-1eb061224c12 button.colab-df-generate');\n",
              "      buttonEl.style.display =\n",
              "        google.colab.kernel.accessAllowed ? 'block' : 'none';\n",
              "\n",
              "      buttonEl.onclick = () => {\n",
              "        google.colab.notebook.generateWithVariable('data');\n",
              "      }\n",
              "      })();\n",
              "    </script>\n",
              "  </div>\n",
              "\n",
              "    </div>\n",
              "  </div>\n"
            ],
            "application/vnd.google.colaboratory.intrinsic+json": {
              "type": "dataframe",
              "variable_name": "data",
              "summary": "{\n  \"name\": \"data\",\n  \"rows\": 10000,\n  \"fields\": [\n    {\n      \"column\": \"Temperature\",\n      \"properties\": {\n        \"dtype\": \"number\",\n        \"std\": 10.034623805034034,\n        \"min\": 30.77599748381657,\n        \"max\": 109.26237706436326,\n        \"num_unique_values\": 10000,\n        \"samples\": [\n          96.378817522602,\n          59.62933926430004,\n          66.50683203881802\n        ],\n        \"semantic_type\": \"\",\n        \"description\": \"\"\n      }\n    },\n    {\n      \"column\": \"Pressure\",\n      \"properties\": {\n        \"dtype\": \"number\",\n        \"std\": 15.015153773428512,\n        \"min\": 42.15437006139105,\n        \"max\": 167.18626376538634,\n        \"num_unique_values\": 10000,\n        \"samples\": [\n          103.70934999361378,\n          88.79167251669273,\n          136.68654353670524\n        ],\n        \"semantic_type\": \"\",\n        \"description\": \"\"\n      }\n    },\n    {\n      \"column\": \"Humidity\",\n      \"properties\": {\n        \"dtype\": \"number\",\n        \"std\": 17.21536012599744,\n        \"min\": 20.00033220054428,\n        \"max\": 79.98736230875572,\n        \"num_unique_values\": 10000,\n        \"samples\": [\n          29.99290698713498,\n          54.738179840974745,\n          53.62257595292451\n        ],\n        \"semantic_type\": \"\",\n        \"description\": \"\"\n      }\n    },\n    {\n      \"column\": \"Vibration\",\n      \"properties\": {\n        \"dtype\": \"number\",\n        \"std\": 2.0117329425402923,\n        \"min\": -3.931207727057755,\n        \"max\": 12.455666689526376,\n        \"num_unique_values\": 10000,\n        \"samples\": [\n          1.1734557808129271,\n          2.316938858347066,\n          5.092858520128794\n        ],\n        \"semantic_type\": \"\",\n        \"description\": \"\"\n      }\n    },\n    {\n      \"column\": \"Load\",\n      \"properties\": {\n        \"dtype\": \"number\",\n        \"std\": 14.350343264508869,\n        \"min\": 50.00042161056521,\n        \"max\": 99.99698480228594,\n        \"num_unique_values\": 10000,\n        \"samples\": [\n          85.93788809775137,\n          69.61138340758296,\n          79.22977704233372\n        ],\n        \"semantic_type\": \"\",\n        \"description\": \"\"\n      }\n    },\n    {\n      \"column\": \"RPM\",\n      \"properties\": {\n        \"dtype\": \"number\",\n        \"std\": 302.6435459263006,\n        \"min\": 473.5861136349838,\n        \"max\": 2623.6137683927486,\n        \"num_unique_values\": 10000,\n        \"samples\": [\n          1580.7699194985034,\n          1662.0009338826587,\n          1185.896177308105\n        ],\n        \"semantic_type\": \"\",\n        \"description\": \"\"\n      }\n    },\n    {\n      \"column\": \"Oil_Quality\",\n      \"properties\": {\n        \"dtype\": \"number\",\n        \"std\": 0.2864218822751096,\n        \"min\": 0.0001300112707964,\n        \"max\": 0.9998750991412936,\n        \"num_unique_values\": 10000,\n        \"samples\": [\n          0.2037543298532692,\n          0.6775774805729257,\n          0.9422987400912896\n        ],\n        \"semantic_type\": \"\",\n        \"description\": \"\"\n      }\n    },\n    {\n      \"column\": \"Failure\",\n      \"properties\": {\n        \"dtype\": \"number\",\n        \"std\": 0,\n        \"min\": 0,\n        \"max\": 1,\n        \"num_unique_values\": 2,\n        \"samples\": [\n          1,\n          0\n        ],\n        \"semantic_type\": \"\",\n        \"description\": \"\"\n      }\n    }\n  ]\n}"
            }
          },
          "metadata": {},
          "execution_count": 6
        }
      ],
      "source": [
        "data"
      ]
    },
    {
      "cell_type": "code",
      "execution_count": 7,
      "metadata": {
        "colab": {
          "base_uri": "https://localhost:8080/"
        },
        "id": "lGXTVDKmrfZZ",
        "outputId": "17508d64-d213-4306-8cc5-b432dc75a2eb"
      },
      "outputs": [
        {
          "output_type": "stream",
          "name": "stdout",
          "text": [
            "<class 'pandas.core.frame.DataFrame'>\n",
            "RangeIndex: 10000 entries, 0 to 9999\n",
            "Data columns (total 8 columns):\n",
            " #   Column       Non-Null Count  Dtype  \n",
            "---  ------       --------------  -----  \n",
            " 0   Temperature  10000 non-null  float64\n",
            " 1   Pressure     10000 non-null  float64\n",
            " 2   Humidity     10000 non-null  float64\n",
            " 3   Vibration    10000 non-null  float64\n",
            " 4   Load         10000 non-null  float64\n",
            " 5   RPM          10000 non-null  float64\n",
            " 6   Oil_Quality  10000 non-null  float64\n",
            " 7   Failure      10000 non-null  int64  \n",
            "dtypes: float64(7), int64(1)\n",
            "memory usage: 625.1 KB\n"
          ]
        }
      ],
      "source": [
        "#data analysing\n",
        "data.info()"
      ]
    },
    {
      "cell_type": "code",
      "execution_count": 16,
      "metadata": {
        "colab": {
          "base_uri": "https://localhost:8080/"
        },
        "id": "uwvz2bDQrnpl",
        "outputId": "64e00847-d698-4966-b839-af37754c282d"
      },
      "outputs": [
        {
          "output_type": "execute_result",
          "data": {
            "text/plain": [
              "(10000, 8)"
            ]
          },
          "metadata": {},
          "execution_count": 16
        }
      ],
      "source": [
        "data.shape"
      ]
    },
    {
      "cell_type": "code",
      "execution_count": 8,
      "metadata": {
        "colab": {
          "base_uri": "https://localhost:8080/",
          "height": 335
        },
        "id": "6YOg8s2BrqFI",
        "outputId": "efaf93be-bb70-4941-e9ee-50c722297294"
      },
      "outputs": [
        {
          "output_type": "execute_result",
          "data": {
            "text/plain": [
              "Temperature    0\n",
              "Pressure       0\n",
              "Humidity       0\n",
              "Vibration      0\n",
              "Load           0\n",
              "RPM            0\n",
              "Oil_Quality    0\n",
              "Failure        0\n",
              "dtype: int64"
            ],
            "text/html": [
              "<div>\n",
              "<style scoped>\n",
              "    .dataframe tbody tr th:only-of-type {\n",
              "        vertical-align: middle;\n",
              "    }\n",
              "\n",
              "    .dataframe tbody tr th {\n",
              "        vertical-align: top;\n",
              "    }\n",
              "\n",
              "    .dataframe thead th {\n",
              "        text-align: right;\n",
              "    }\n",
              "</style>\n",
              "<table border=\"1\" class=\"dataframe\">\n",
              "  <thead>\n",
              "    <tr style=\"text-align: right;\">\n",
              "      <th></th>\n",
              "      <th>0</th>\n",
              "    </tr>\n",
              "  </thead>\n",
              "  <tbody>\n",
              "    <tr>\n",
              "      <th>Temperature</th>\n",
              "      <td>0</td>\n",
              "    </tr>\n",
              "    <tr>\n",
              "      <th>Pressure</th>\n",
              "      <td>0</td>\n",
              "    </tr>\n",
              "    <tr>\n",
              "      <th>Humidity</th>\n",
              "      <td>0</td>\n",
              "    </tr>\n",
              "    <tr>\n",
              "      <th>Vibration</th>\n",
              "      <td>0</td>\n",
              "    </tr>\n",
              "    <tr>\n",
              "      <th>Load</th>\n",
              "      <td>0</td>\n",
              "    </tr>\n",
              "    <tr>\n",
              "      <th>RPM</th>\n",
              "      <td>0</td>\n",
              "    </tr>\n",
              "    <tr>\n",
              "      <th>Oil_Quality</th>\n",
              "      <td>0</td>\n",
              "    </tr>\n",
              "    <tr>\n",
              "      <th>Failure</th>\n",
              "      <td>0</td>\n",
              "    </tr>\n",
              "  </tbody>\n",
              "</table>\n",
              "</div><br><label><b>dtype:</b> int64</label>"
            ]
          },
          "metadata": {},
          "execution_count": 8
        }
      ],
      "source": [
        "#data preprocessing\n",
        "data.isnull().sum()"
      ]
    },
    {
      "cell_type": "code",
      "execution_count": null,
      "metadata": {
        "id": "DxpU0YlfvMiY"
      },
      "outputs": [],
      "source": [
        "#delete the null values\n",
        "#data.dropna(inplace=True)"
      ]
    },
    {
      "cell_type": "code",
      "execution_count": null,
      "metadata": {
        "colab": {
          "base_uri": "https://localhost:8080/",
          "height": 398
        },
        "id": "A8R6CBFnrttH",
        "outputId": "ecb6de76-b7f5-47d3-f833-a6a972dd2299"
      },
      "outputs": [
        {
          "output_type": "execute_result",
          "data": {
            "text/plain": [
              "Machine_ID               int64\n",
              "Temperature            float64\n",
              "Vibration              float64\n",
              "Pressure               float64\n",
              "Operating_Hours          int64\n",
              "Maintenance_History      int64\n",
              "Failure_History          int64\n",
              "Age                      int64\n",
              "Load                   float64\n",
              "Failure_Prediction       int64\n",
              "dtype: object"
            ],
            "text/html": [
              "<div>\n",
              "<style scoped>\n",
              "    .dataframe tbody tr th:only-of-type {\n",
              "        vertical-align: middle;\n",
              "    }\n",
              "\n",
              "    .dataframe tbody tr th {\n",
              "        vertical-align: top;\n",
              "    }\n",
              "\n",
              "    .dataframe thead th {\n",
              "        text-align: right;\n",
              "    }\n",
              "</style>\n",
              "<table border=\"1\" class=\"dataframe\">\n",
              "  <thead>\n",
              "    <tr style=\"text-align: right;\">\n",
              "      <th></th>\n",
              "      <th>0</th>\n",
              "    </tr>\n",
              "  </thead>\n",
              "  <tbody>\n",
              "    <tr>\n",
              "      <th>Machine_ID</th>\n",
              "      <td>int64</td>\n",
              "    </tr>\n",
              "    <tr>\n",
              "      <th>Temperature</th>\n",
              "      <td>float64</td>\n",
              "    </tr>\n",
              "    <tr>\n",
              "      <th>Vibration</th>\n",
              "      <td>float64</td>\n",
              "    </tr>\n",
              "    <tr>\n",
              "      <th>Pressure</th>\n",
              "      <td>float64</td>\n",
              "    </tr>\n",
              "    <tr>\n",
              "      <th>Operating_Hours</th>\n",
              "      <td>int64</td>\n",
              "    </tr>\n",
              "    <tr>\n",
              "      <th>Maintenance_History</th>\n",
              "      <td>int64</td>\n",
              "    </tr>\n",
              "    <tr>\n",
              "      <th>Failure_History</th>\n",
              "      <td>int64</td>\n",
              "    </tr>\n",
              "    <tr>\n",
              "      <th>Age</th>\n",
              "      <td>int64</td>\n",
              "    </tr>\n",
              "    <tr>\n",
              "      <th>Load</th>\n",
              "      <td>float64</td>\n",
              "    </tr>\n",
              "    <tr>\n",
              "      <th>Failure_Prediction</th>\n",
              "      <td>int64</td>\n",
              "    </tr>\n",
              "  </tbody>\n",
              "</table>\n",
              "</div><br><label><b>dtype:</b> object</label>"
            ]
          },
          "metadata": {},
          "execution_count": 119
        }
      ],
      "source": [
        "data.dtypes"
      ]
    },
    {
      "cell_type": "code",
      "execution_count": 17,
      "metadata": {
        "colab": {
          "base_uri": "https://localhost:8080/",
          "height": 206
        },
        "id": "p09l7w9IrzZd",
        "outputId": "5305d9df-aa1c-4514-8c21-147e4e543825"
      },
      "outputs": [
        {
          "output_type": "execute_result",
          "data": {
            "text/plain": [
              "   Temperature    Pressure   Humidity  Vibration       Load          RPM  \\\n",
              "0    74.967142   89.822579  23.339984  -0.482834  89.643278  1369.495253   \n",
              "1    68.617357   95.417508  79.146056   9.302049  86.990731  1499.931090   \n",
              "2    76.476885   91.039284  68.001109   4.425389  61.706026  1820.233075   \n",
              "3    85.230299  101.656271  72.128544   4.620865  66.000226  1663.406770   \n",
              "4    67.658466  117.957678  61.657657   4.879968  89.431410  1724.710439   \n",
              "\n",
              "   Oil_Quality  Failure  \n",
              "0     0.049030        0  \n",
              "1     0.501811        0  \n",
              "2     0.649667        0  \n",
              "3     0.424483        1  \n",
              "4     0.563205        0  "
            ],
            "text/html": [
              "\n",
              "  <div id=\"df-04929f78-1c41-4184-a74b-10076e9a9b28\" class=\"colab-df-container\">\n",
              "    <div>\n",
              "<style scoped>\n",
              "    .dataframe tbody tr th:only-of-type {\n",
              "        vertical-align: middle;\n",
              "    }\n",
              "\n",
              "    .dataframe tbody tr th {\n",
              "        vertical-align: top;\n",
              "    }\n",
              "\n",
              "    .dataframe thead th {\n",
              "        text-align: right;\n",
              "    }\n",
              "</style>\n",
              "<table border=\"1\" class=\"dataframe\">\n",
              "  <thead>\n",
              "    <tr style=\"text-align: right;\">\n",
              "      <th></th>\n",
              "      <th>Temperature</th>\n",
              "      <th>Pressure</th>\n",
              "      <th>Humidity</th>\n",
              "      <th>Vibration</th>\n",
              "      <th>Load</th>\n",
              "      <th>RPM</th>\n",
              "      <th>Oil_Quality</th>\n",
              "      <th>Failure</th>\n",
              "    </tr>\n",
              "  </thead>\n",
              "  <tbody>\n",
              "    <tr>\n",
              "      <th>0</th>\n",
              "      <td>74.967142</td>\n",
              "      <td>89.822579</td>\n",
              "      <td>23.339984</td>\n",
              "      <td>-0.482834</td>\n",
              "      <td>89.643278</td>\n",
              "      <td>1369.495253</td>\n",
              "      <td>0.049030</td>\n",
              "      <td>0</td>\n",
              "    </tr>\n",
              "    <tr>\n",
              "      <th>1</th>\n",
              "      <td>68.617357</td>\n",
              "      <td>95.417508</td>\n",
              "      <td>79.146056</td>\n",
              "      <td>9.302049</td>\n",
              "      <td>86.990731</td>\n",
              "      <td>1499.931090</td>\n",
              "      <td>0.501811</td>\n",
              "      <td>0</td>\n",
              "    </tr>\n",
              "    <tr>\n",
              "      <th>2</th>\n",
              "      <td>76.476885</td>\n",
              "      <td>91.039284</td>\n",
              "      <td>68.001109</td>\n",
              "      <td>4.425389</td>\n",
              "      <td>61.706026</td>\n",
              "      <td>1820.233075</td>\n",
              "      <td>0.649667</td>\n",
              "      <td>0</td>\n",
              "    </tr>\n",
              "    <tr>\n",
              "      <th>3</th>\n",
              "      <td>85.230299</td>\n",
              "      <td>101.656271</td>\n",
              "      <td>72.128544</td>\n",
              "      <td>4.620865</td>\n",
              "      <td>66.000226</td>\n",
              "      <td>1663.406770</td>\n",
              "      <td>0.424483</td>\n",
              "      <td>1</td>\n",
              "    </tr>\n",
              "    <tr>\n",
              "      <th>4</th>\n",
              "      <td>67.658466</td>\n",
              "      <td>117.957678</td>\n",
              "      <td>61.657657</td>\n",
              "      <td>4.879968</td>\n",
              "      <td>89.431410</td>\n",
              "      <td>1724.710439</td>\n",
              "      <td>0.563205</td>\n",
              "      <td>0</td>\n",
              "    </tr>\n",
              "  </tbody>\n",
              "</table>\n",
              "</div>\n",
              "    <div class=\"colab-df-buttons\">\n",
              "\n",
              "  <div class=\"colab-df-container\">\n",
              "    <button class=\"colab-df-convert\" onclick=\"convertToInteractive('df-04929f78-1c41-4184-a74b-10076e9a9b28')\"\n",
              "            title=\"Convert this dataframe to an interactive table.\"\n",
              "            style=\"display:none;\">\n",
              "\n",
              "  <svg xmlns=\"http://www.w3.org/2000/svg\" height=\"24px\" viewBox=\"0 -960 960 960\">\n",
              "    <path d=\"M120-120v-720h720v720H120Zm60-500h600v-160H180v160Zm220 220h160v-160H400v160Zm0 220h160v-160H400v160ZM180-400h160v-160H180v160Zm440 0h160v-160H620v160ZM180-180h160v-160H180v160Zm440 0h160v-160H620v160Z\"/>\n",
              "  </svg>\n",
              "    </button>\n",
              "\n",
              "  <style>\n",
              "    .colab-df-container {\n",
              "      display:flex;\n",
              "      gap: 12px;\n",
              "    }\n",
              "\n",
              "    .colab-df-convert {\n",
              "      background-color: #E8F0FE;\n",
              "      border: none;\n",
              "      border-radius: 50%;\n",
              "      cursor: pointer;\n",
              "      display: none;\n",
              "      fill: #1967D2;\n",
              "      height: 32px;\n",
              "      padding: 0 0 0 0;\n",
              "      width: 32px;\n",
              "    }\n",
              "\n",
              "    .colab-df-convert:hover {\n",
              "      background-color: #E2EBFA;\n",
              "      box-shadow: 0px 1px 2px rgba(60, 64, 67, 0.3), 0px 1px 3px 1px rgba(60, 64, 67, 0.15);\n",
              "      fill: #174EA6;\n",
              "    }\n",
              "\n",
              "    .colab-df-buttons div {\n",
              "      margin-bottom: 4px;\n",
              "    }\n",
              "\n",
              "    [theme=dark] .colab-df-convert {\n",
              "      background-color: #3B4455;\n",
              "      fill: #D2E3FC;\n",
              "    }\n",
              "\n",
              "    [theme=dark] .colab-df-convert:hover {\n",
              "      background-color: #434B5C;\n",
              "      box-shadow: 0px 1px 3px 1px rgba(0, 0, 0, 0.15);\n",
              "      filter: drop-shadow(0px 1px 2px rgba(0, 0, 0, 0.3));\n",
              "      fill: #FFFFFF;\n",
              "    }\n",
              "  </style>\n",
              "\n",
              "    <script>\n",
              "      const buttonEl =\n",
              "        document.querySelector('#df-04929f78-1c41-4184-a74b-10076e9a9b28 button.colab-df-convert');\n",
              "      buttonEl.style.display =\n",
              "        google.colab.kernel.accessAllowed ? 'block' : 'none';\n",
              "\n",
              "      async function convertToInteractive(key) {\n",
              "        const element = document.querySelector('#df-04929f78-1c41-4184-a74b-10076e9a9b28');\n",
              "        const dataTable =\n",
              "          await google.colab.kernel.invokeFunction('convertToInteractive',\n",
              "                                                    [key], {});\n",
              "        if (!dataTable) return;\n",
              "\n",
              "        const docLinkHtml = 'Like what you see? Visit the ' +\n",
              "          '<a target=\"_blank\" href=https://colab.research.google.com/notebooks/data_table.ipynb>data table notebook</a>'\n",
              "          + ' to learn more about interactive tables.';\n",
              "        element.innerHTML = '';\n",
              "        dataTable['output_type'] = 'display_data';\n",
              "        await google.colab.output.renderOutput(dataTable, element);\n",
              "        const docLink = document.createElement('div');\n",
              "        docLink.innerHTML = docLinkHtml;\n",
              "        element.appendChild(docLink);\n",
              "      }\n",
              "    </script>\n",
              "  </div>\n",
              "\n",
              "\n",
              "<div id=\"df-18043a71-e619-4ef2-9950-6569da53e295\">\n",
              "  <button class=\"colab-df-quickchart\" onclick=\"quickchart('df-18043a71-e619-4ef2-9950-6569da53e295')\"\n",
              "            title=\"Suggest charts\"\n",
              "            style=\"display:none;\">\n",
              "\n",
              "<svg xmlns=\"http://www.w3.org/2000/svg\" height=\"24px\"viewBox=\"0 0 24 24\"\n",
              "     width=\"24px\">\n",
              "    <g>\n",
              "        <path d=\"M19 3H5c-1.1 0-2 .9-2 2v14c0 1.1.9 2 2 2h14c1.1 0 2-.9 2-2V5c0-1.1-.9-2-2-2zM9 17H7v-7h2v7zm4 0h-2V7h2v10zm4 0h-2v-4h2v4z\"/>\n",
              "    </g>\n",
              "</svg>\n",
              "  </button>\n",
              "\n",
              "<style>\n",
              "  .colab-df-quickchart {\n",
              "      --bg-color: #E8F0FE;\n",
              "      --fill-color: #1967D2;\n",
              "      --hover-bg-color: #E2EBFA;\n",
              "      --hover-fill-color: #174EA6;\n",
              "      --disabled-fill-color: #AAA;\n",
              "      --disabled-bg-color: #DDD;\n",
              "  }\n",
              "\n",
              "  [theme=dark] .colab-df-quickchart {\n",
              "      --bg-color: #3B4455;\n",
              "      --fill-color: #D2E3FC;\n",
              "      --hover-bg-color: #434B5C;\n",
              "      --hover-fill-color: #FFFFFF;\n",
              "      --disabled-bg-color: #3B4455;\n",
              "      --disabled-fill-color: #666;\n",
              "  }\n",
              "\n",
              "  .colab-df-quickchart {\n",
              "    background-color: var(--bg-color);\n",
              "    border: none;\n",
              "    border-radius: 50%;\n",
              "    cursor: pointer;\n",
              "    display: none;\n",
              "    fill: var(--fill-color);\n",
              "    height: 32px;\n",
              "    padding: 0;\n",
              "    width: 32px;\n",
              "  }\n",
              "\n",
              "  .colab-df-quickchart:hover {\n",
              "    background-color: var(--hover-bg-color);\n",
              "    box-shadow: 0 1px 2px rgba(60, 64, 67, 0.3), 0 1px 3px 1px rgba(60, 64, 67, 0.15);\n",
              "    fill: var(--button-hover-fill-color);\n",
              "  }\n",
              "\n",
              "  .colab-df-quickchart-complete:disabled,\n",
              "  .colab-df-quickchart-complete:disabled:hover {\n",
              "    background-color: var(--disabled-bg-color);\n",
              "    fill: var(--disabled-fill-color);\n",
              "    box-shadow: none;\n",
              "  }\n",
              "\n",
              "  .colab-df-spinner {\n",
              "    border: 2px solid var(--fill-color);\n",
              "    border-color: transparent;\n",
              "    border-bottom-color: var(--fill-color);\n",
              "    animation:\n",
              "      spin 1s steps(1) infinite;\n",
              "  }\n",
              "\n",
              "  @keyframes spin {\n",
              "    0% {\n",
              "      border-color: transparent;\n",
              "      border-bottom-color: var(--fill-color);\n",
              "      border-left-color: var(--fill-color);\n",
              "    }\n",
              "    20% {\n",
              "      border-color: transparent;\n",
              "      border-left-color: var(--fill-color);\n",
              "      border-top-color: var(--fill-color);\n",
              "    }\n",
              "    30% {\n",
              "      border-color: transparent;\n",
              "      border-left-color: var(--fill-color);\n",
              "      border-top-color: var(--fill-color);\n",
              "      border-right-color: var(--fill-color);\n",
              "    }\n",
              "    40% {\n",
              "      border-color: transparent;\n",
              "      border-right-color: var(--fill-color);\n",
              "      border-top-color: var(--fill-color);\n",
              "    }\n",
              "    60% {\n",
              "      border-color: transparent;\n",
              "      border-right-color: var(--fill-color);\n",
              "    }\n",
              "    80% {\n",
              "      border-color: transparent;\n",
              "      border-right-color: var(--fill-color);\n",
              "      border-bottom-color: var(--fill-color);\n",
              "    }\n",
              "    90% {\n",
              "      border-color: transparent;\n",
              "      border-bottom-color: var(--fill-color);\n",
              "    }\n",
              "  }\n",
              "</style>\n",
              "\n",
              "  <script>\n",
              "    async function quickchart(key) {\n",
              "      const quickchartButtonEl =\n",
              "        document.querySelector('#' + key + ' button');\n",
              "      quickchartButtonEl.disabled = true;  // To prevent multiple clicks.\n",
              "      quickchartButtonEl.classList.add('colab-df-spinner');\n",
              "      try {\n",
              "        const charts = await google.colab.kernel.invokeFunction(\n",
              "            'suggestCharts', [key], {});\n",
              "      } catch (error) {\n",
              "        console.error('Error during call to suggestCharts:', error);\n",
              "      }\n",
              "      quickchartButtonEl.classList.remove('colab-df-spinner');\n",
              "      quickchartButtonEl.classList.add('colab-df-quickchart-complete');\n",
              "    }\n",
              "    (() => {\n",
              "      let quickchartButtonEl =\n",
              "        document.querySelector('#df-18043a71-e619-4ef2-9950-6569da53e295 button');\n",
              "      quickchartButtonEl.style.display =\n",
              "        google.colab.kernel.accessAllowed ? 'block' : 'none';\n",
              "    })();\n",
              "  </script>\n",
              "</div>\n",
              "\n",
              "    </div>\n",
              "  </div>\n"
            ],
            "application/vnd.google.colaboratory.intrinsic+json": {
              "type": "dataframe",
              "variable_name": "data",
              "summary": "{\n  \"name\": \"data\",\n  \"rows\": 10000,\n  \"fields\": [\n    {\n      \"column\": \"Temperature\",\n      \"properties\": {\n        \"dtype\": \"number\",\n        \"std\": 10.034623805034034,\n        \"min\": 30.77599748381657,\n        \"max\": 109.26237706436326,\n        \"num_unique_values\": 10000,\n        \"samples\": [\n          96.378817522602,\n          59.62933926430004,\n          66.50683203881802\n        ],\n        \"semantic_type\": \"\",\n        \"description\": \"\"\n      }\n    },\n    {\n      \"column\": \"Pressure\",\n      \"properties\": {\n        \"dtype\": \"number\",\n        \"std\": 15.015153773428512,\n        \"min\": 42.15437006139105,\n        \"max\": 167.18626376538634,\n        \"num_unique_values\": 10000,\n        \"samples\": [\n          103.70934999361378,\n          88.79167251669273,\n          136.68654353670524\n        ],\n        \"semantic_type\": \"\",\n        \"description\": \"\"\n      }\n    },\n    {\n      \"column\": \"Humidity\",\n      \"properties\": {\n        \"dtype\": \"number\",\n        \"std\": 17.21536012599744,\n        \"min\": 20.00033220054428,\n        \"max\": 79.98736230875572,\n        \"num_unique_values\": 10000,\n        \"samples\": [\n          29.99290698713498,\n          54.738179840974745,\n          53.62257595292451\n        ],\n        \"semantic_type\": \"\",\n        \"description\": \"\"\n      }\n    },\n    {\n      \"column\": \"Vibration\",\n      \"properties\": {\n        \"dtype\": \"number\",\n        \"std\": 2.0117329425402923,\n        \"min\": -3.931207727057755,\n        \"max\": 12.455666689526376,\n        \"num_unique_values\": 10000,\n        \"samples\": [\n          1.1734557808129271,\n          2.316938858347066,\n          5.092858520128794\n        ],\n        \"semantic_type\": \"\",\n        \"description\": \"\"\n      }\n    },\n    {\n      \"column\": \"Load\",\n      \"properties\": {\n        \"dtype\": \"number\",\n        \"std\": 14.350343264508869,\n        \"min\": 50.00042161056521,\n        \"max\": 99.99698480228594,\n        \"num_unique_values\": 10000,\n        \"samples\": [\n          85.93788809775137,\n          69.61138340758296,\n          79.22977704233372\n        ],\n        \"semantic_type\": \"\",\n        \"description\": \"\"\n      }\n    },\n    {\n      \"column\": \"RPM\",\n      \"properties\": {\n        \"dtype\": \"number\",\n        \"std\": 302.6435459263006,\n        \"min\": 473.5861136349838,\n        \"max\": 2623.6137683927486,\n        \"num_unique_values\": 10000,\n        \"samples\": [\n          1580.7699194985034,\n          1662.0009338826587,\n          1185.896177308105\n        ],\n        \"semantic_type\": \"\",\n        \"description\": \"\"\n      }\n    },\n    {\n      \"column\": \"Oil_Quality\",\n      \"properties\": {\n        \"dtype\": \"number\",\n        \"std\": 0.2864218822751096,\n        \"min\": 0.0001300112707964,\n        \"max\": 0.9998750991412936,\n        \"num_unique_values\": 10000,\n        \"samples\": [\n          0.2037543298532692,\n          0.6775774805729257,\n          0.9422987400912896\n        ],\n        \"semantic_type\": \"\",\n        \"description\": \"\"\n      }\n    },\n    {\n      \"column\": \"Failure\",\n      \"properties\": {\n        \"dtype\": \"number\",\n        \"std\": 0,\n        \"min\": 0,\n        \"max\": 1,\n        \"num_unique_values\": 2,\n        \"samples\": [\n          1,\n          0\n        ],\n        \"semantic_type\": \"\",\n        \"description\": \"\"\n      }\n    }\n  ]\n}"
            }
          },
          "metadata": {},
          "execution_count": 17
        }
      ],
      "source": [
        "data.head()"
      ]
    },
    {
      "cell_type": "code",
      "execution_count": 19,
      "metadata": {
        "colab": {
          "base_uri": "https://localhost:8080/",
          "height": 300
        },
        "id": "sTXPQfIjsg33",
        "outputId": "5d8b62c0-6194-46c0-f7fd-99784188702e"
      },
      "outputs": [
        {
          "output_type": "execute_result",
          "data": {
            "text/plain": [
              "<pandas.io.formats.style.Styler at 0x7813cd853d90>"
            ],
            "text/html": [
              "<style type=\"text/css\">\n",
              "#T_b178d_row0_col0, #T_b178d_row1_col1, #T_b178d_row2_col2, #T_b178d_row3_col3, #T_b178d_row4_col4, #T_b178d_row5_col5, #T_b178d_row6_col6, #T_b178d_row7_col7 {\n",
              "  background-color: #b40426;\n",
              "  color: #f1f1f1;\n",
              "}\n",
              "#T_b178d_row0_col1, #T_b178d_row0_col2, #T_b178d_row1_col5, #T_b178d_row3_col4, #T_b178d_row4_col3, #T_b178d_row5_col1, #T_b178d_row5_col3, #T_b178d_row6_col0, #T_b178d_row6_col7, #T_b178d_row7_col6 {\n",
              "  background-color: #3b4cc0;\n",
              "  color: #f1f1f1;\n",
              "}\n",
              "#T_b178d_row0_col3, #T_b178d_row0_col5, #T_b178d_row1_col4, #T_b178d_row2_col4, #T_b178d_row3_col1, #T_b178d_row6_col1, #T_b178d_row6_col2, #T_b178d_row6_col4 {\n",
              "  background-color: #3f53c6;\n",
              "  color: #f1f1f1;\n",
              "}\n",
              "#T_b178d_row0_col4, #T_b178d_row1_col2, #T_b178d_row2_col1, #T_b178d_row2_col3, #T_b178d_row2_col5, #T_b178d_row3_col2, #T_b178d_row5_col2, #T_b178d_row5_col4 {\n",
              "  background-color: #3e51c5;\n",
              "  color: #f1f1f1;\n",
              "}\n",
              "#T_b178d_row0_col6 {\n",
              "  background-color: #6687ed;\n",
              "  color: #f1f1f1;\n",
              "}\n",
              "#T_b178d_row0_col7 {\n",
              "  background-color: #c3d5f4;\n",
              "  color: #000000;\n",
              "}\n",
              "#T_b178d_row1_col0, #T_b178d_row2_col0, #T_b178d_row3_col5, #T_b178d_row6_col3, #T_b178d_row6_col5, #T_b178d_row7_col2, #T_b178d_row7_col4, #T_b178d_row7_col5 {\n",
              "  background-color: #3c4ec2;\n",
              "  color: #f1f1f1;\n",
              "}\n",
              "#T_b178d_row1_col3 {\n",
              "  background-color: #3d50c3;\n",
              "  color: #f1f1f1;\n",
              "}\n",
              "#T_b178d_row1_col6, #T_b178d_row2_col6 {\n",
              "  background-color: #6c8ff1;\n",
              "  color: #f1f1f1;\n",
              "}\n",
              "#T_b178d_row1_col7 {\n",
              "  background-color: #b9d0f9;\n",
              "  color: #000000;\n",
              "}\n",
              "#T_b178d_row2_col7, #T_b178d_row4_col7 {\n",
              "  background-color: #6a8bef;\n",
              "  color: #f1f1f1;\n",
              "}\n",
              "#T_b178d_row3_col0, #T_b178d_row4_col0, #T_b178d_row5_col0 {\n",
              "  background-color: #4257c9;\n",
              "  color: #f1f1f1;\n",
              "}\n",
              "#T_b178d_row3_col6 {\n",
              "  background-color: #6b8df0;\n",
              "  color: #f1f1f1;\n",
              "}\n",
              "#T_b178d_row3_col7 {\n",
              "  background-color: #93b5fe;\n",
              "  color: #000000;\n",
              "}\n",
              "#T_b178d_row4_col1, #T_b178d_row4_col2, #T_b178d_row4_col5 {\n",
              "  background-color: #4055c8;\n",
              "  color: #f1f1f1;\n",
              "}\n",
              "#T_b178d_row4_col6 {\n",
              "  background-color: #6e90f2;\n",
              "  color: #f1f1f1;\n",
              "}\n",
              "#T_b178d_row5_col6, #T_b178d_row5_col7 {\n",
              "  background-color: #688aef;\n",
              "  color: #f1f1f1;\n",
              "}\n",
              "#T_b178d_row7_col0 {\n",
              "  background-color: #a3c2fe;\n",
              "  color: #000000;\n",
              "}\n",
              "#T_b178d_row7_col1 {\n",
              "  background-color: #94b6ff;\n",
              "  color: #000000;\n",
              "}\n",
              "#T_b178d_row7_col3 {\n",
              "  background-color: #6788ee;\n",
              "  color: #f1f1f1;\n",
              "}\n",
              "</style>\n",
              "<table id=\"T_b178d\" class=\"dataframe\">\n",
              "  <thead>\n",
              "    <tr>\n",
              "      <th class=\"blank level0\" >&nbsp;</th>\n",
              "      <th id=\"T_b178d_level0_col0\" class=\"col_heading level0 col0\" >Temperature</th>\n",
              "      <th id=\"T_b178d_level0_col1\" class=\"col_heading level0 col1\" >Pressure</th>\n",
              "      <th id=\"T_b178d_level0_col2\" class=\"col_heading level0 col2\" >Humidity</th>\n",
              "      <th id=\"T_b178d_level0_col3\" class=\"col_heading level0 col3\" >Vibration</th>\n",
              "      <th id=\"T_b178d_level0_col4\" class=\"col_heading level0 col4\" >Load</th>\n",
              "      <th id=\"T_b178d_level0_col5\" class=\"col_heading level0 col5\" >RPM</th>\n",
              "      <th id=\"T_b178d_level0_col6\" class=\"col_heading level0 col6\" >Oil_Quality</th>\n",
              "      <th id=\"T_b178d_level0_col7\" class=\"col_heading level0 col7\" >Failure</th>\n",
              "    </tr>\n",
              "  </thead>\n",
              "  <tbody>\n",
              "    <tr>\n",
              "      <th id=\"T_b178d_level0_row0\" class=\"row_heading level0 row0\" >Temperature</th>\n",
              "      <td id=\"T_b178d_row0_col0\" class=\"data row0 col0\" >1.000000</td>\n",
              "      <td id=\"T_b178d_row0_col1\" class=\"data row0 col1\" >-0.008553</td>\n",
              "      <td id=\"T_b178d_row0_col2\" class=\"data row0 col2\" >-0.008334</td>\n",
              "      <td id=\"T_b178d_row0_col3\" class=\"data row0 col3\" >0.011712</td>\n",
              "      <td id=\"T_b178d_row0_col4\" class=\"data row0 col4\" >0.010378</td>\n",
              "      <td id=\"T_b178d_row0_col5\" class=\"data row0 col5\" >0.009125</td>\n",
              "      <td id=\"T_b178d_row0_col6\" class=\"data row0 col6\" >-0.015834</td>\n",
              "      <td id=\"T_b178d_row0_col7\" class=\"data row0 col7\" >0.304587</td>\n",
              "    </tr>\n",
              "    <tr>\n",
              "      <th id=\"T_b178d_level0_row1\" class=\"row_heading level0 row1\" >Pressure</th>\n",
              "      <td id=\"T_b178d_row1_col0\" class=\"data row1 col0\" >-0.008553</td>\n",
              "      <td id=\"T_b178d_row1_col1\" class=\"data row1 col1\" >1.000000</td>\n",
              "      <td id=\"T_b178d_row1_col2\" class=\"data row1 col2\" >0.005262</td>\n",
              "      <td id=\"T_b178d_row1_col3\" class=\"data row1 col3\" >0.006527</td>\n",
              "      <td id=\"T_b178d_row1_col4\" class=\"data row1 col4\" >0.013196</td>\n",
              "      <td id=\"T_b178d_row1_col5\" class=\"data row1 col5\" >-0.010303</td>\n",
              "      <td id=\"T_b178d_row1_col6\" class=\"data row1 col6\" >0.007359</td>\n",
              "      <td id=\"T_b178d_row1_col7\" class=\"data row1 col7\" >0.265529</td>\n",
              "    </tr>\n",
              "    <tr>\n",
              "      <th id=\"T_b178d_level0_row2\" class=\"row_heading level0 row2\" >Humidity</th>\n",
              "      <td id=\"T_b178d_row2_col0\" class=\"data row2 col0\" >-0.008334</td>\n",
              "      <td id=\"T_b178d_row2_col1\" class=\"data row2 col1\" >0.005262</td>\n",
              "      <td id=\"T_b178d_row2_col2\" class=\"data row2 col2\" >1.000000</td>\n",
              "      <td id=\"T_b178d_row2_col3\" class=\"data row2 col3\" >0.007413</td>\n",
              "      <td id=\"T_b178d_row2_col4\" class=\"data row2 col4\" >0.013693</td>\n",
              "      <td id=\"T_b178d_row2_col5\" class=\"data row2 col5\" >0.003693</td>\n",
              "      <td id=\"T_b178d_row2_col6\" class=\"data row2 col6\" >0.007515</td>\n",
              "      <td id=\"T_b178d_row2_col7\" class=\"data row2 col7\" >-0.002332</td>\n",
              "    </tr>\n",
              "    <tr>\n",
              "      <th id=\"T_b178d_level0_row3\" class=\"row_heading level0 row3\" >Vibration</th>\n",
              "      <td id=\"T_b178d_row3_col0\" class=\"data row3 col0\" >0.011712</td>\n",
              "      <td id=\"T_b178d_row3_col1\" class=\"data row3 col1\" >0.006527</td>\n",
              "      <td id=\"T_b178d_row3_col2\" class=\"data row3 col2\" >0.007413</td>\n",
              "      <td id=\"T_b178d_row3_col3\" class=\"data row3 col3\" >1.000000</td>\n",
              "      <td id=\"T_b178d_row3_col4\" class=\"data row3 col4\" >-0.005002</td>\n",
              "      <td id=\"T_b178d_row3_col5\" class=\"data row3 col5\" >-0.004530</td>\n",
              "      <td id=\"T_b178d_row3_col6\" class=\"data row3 col6\" >0.002796</td>\n",
              "      <td id=\"T_b178d_row3_col7\" class=\"data row3 col7\" >0.138248</td>\n",
              "    </tr>\n",
              "    <tr>\n",
              "      <th id=\"T_b178d_level0_row4\" class=\"row_heading level0 row4\" >Load</th>\n",
              "      <td id=\"T_b178d_row4_col0\" class=\"data row4 col0\" >0.010378</td>\n",
              "      <td id=\"T_b178d_row4_col1\" class=\"data row4 col1\" >0.013196</td>\n",
              "      <td id=\"T_b178d_row4_col2\" class=\"data row4 col2\" >0.013693</td>\n",
              "      <td id=\"T_b178d_row4_col3\" class=\"data row4 col3\" >-0.005002</td>\n",
              "      <td id=\"T_b178d_row4_col4\" class=\"data row4 col4\" >1.000000</td>\n",
              "      <td id=\"T_b178d_row4_col5\" class=\"data row4 col5\" >0.009582</td>\n",
              "      <td id=\"T_b178d_row4_col6\" class=\"data row4 col6\" >0.011564</td>\n",
              "      <td id=\"T_b178d_row4_col7\" class=\"data row4 col7\" >0.000820</td>\n",
              "    </tr>\n",
              "    <tr>\n",
              "      <th id=\"T_b178d_level0_row5\" class=\"row_heading level0 row5\" >RPM</th>\n",
              "      <td id=\"T_b178d_row5_col0\" class=\"data row5 col0\" >0.009125</td>\n",
              "      <td id=\"T_b178d_row5_col1\" class=\"data row5 col1\" >-0.010303</td>\n",
              "      <td id=\"T_b178d_row5_col2\" class=\"data row5 col2\" >0.003693</td>\n",
              "      <td id=\"T_b178d_row5_col3\" class=\"data row5 col3\" >-0.004530</td>\n",
              "      <td id=\"T_b178d_row5_col4\" class=\"data row5 col4\" >0.009582</td>\n",
              "      <td id=\"T_b178d_row5_col5\" class=\"data row5 col5\" >1.000000</td>\n",
              "      <td id=\"T_b178d_row5_col6\" class=\"data row5 col6\" >-0.006338</td>\n",
              "      <td id=\"T_b178d_row5_col7\" class=\"data row5 col7\" >-0.006100</td>\n",
              "    </tr>\n",
              "    <tr>\n",
              "      <th id=\"T_b178d_level0_row6\" class=\"row_heading level0 row6\" >Oil_Quality</th>\n",
              "      <td id=\"T_b178d_row6_col0\" class=\"data row6 col0\" >-0.015834</td>\n",
              "      <td id=\"T_b178d_row6_col1\" class=\"data row6 col1\" >0.007359</td>\n",
              "      <td id=\"T_b178d_row6_col2\" class=\"data row6 col2\" >0.007515</td>\n",
              "      <td id=\"T_b178d_row6_col3\" class=\"data row6 col3\" >0.002796</td>\n",
              "      <td id=\"T_b178d_row6_col4\" class=\"data row6 col4\" >0.011564</td>\n",
              "      <td id=\"T_b178d_row6_col5\" class=\"data row6 col5\" >-0.006338</td>\n",
              "      <td id=\"T_b178d_row6_col6\" class=\"data row6 col6\" >1.000000</td>\n",
              "      <td id=\"T_b178d_row6_col7\" class=\"data row6 col7\" >-0.177773</td>\n",
              "    </tr>\n",
              "    <tr>\n",
              "      <th id=\"T_b178d_level0_row7\" class=\"row_heading level0 row7\" >Failure</th>\n",
              "      <td id=\"T_b178d_row7_col0\" class=\"data row7 col0\" >0.304587</td>\n",
              "      <td id=\"T_b178d_row7_col1\" class=\"data row7 col1\" >0.265529</td>\n",
              "      <td id=\"T_b178d_row7_col2\" class=\"data row7 col2\" >-0.002332</td>\n",
              "      <td id=\"T_b178d_row7_col3\" class=\"data row7 col3\" >0.138248</td>\n",
              "      <td id=\"T_b178d_row7_col4\" class=\"data row7 col4\" >0.000820</td>\n",
              "      <td id=\"T_b178d_row7_col5\" class=\"data row7 col5\" >-0.006100</td>\n",
              "      <td id=\"T_b178d_row7_col6\" class=\"data row7 col6\" >-0.177773</td>\n",
              "      <td id=\"T_b178d_row7_col7\" class=\"data row7 col7\" >1.000000</td>\n",
              "    </tr>\n",
              "  </tbody>\n",
              "</table>\n"
            ]
          },
          "metadata": {},
          "execution_count": 19
        }
      ],
      "source": [
        "#graphical correlation table\n",
        "corr=data.corr()\n",
        "corr.style.background_gradient(cmap='coolwarm')"
      ]
    },
    {
      "cell_type": "code",
      "execution_count": 21,
      "metadata": {
        "colab": {
          "base_uri": "https://localhost:8080/",
          "height": 466
        },
        "id": "CRCX79WntHok",
        "outputId": "ea5e75ca-f23c-4d19-8aa4-aa367e8ad4da"
      },
      "outputs": [
        {
          "output_type": "execute_result",
          "data": {
            "text/plain": [
              "<Axes: xlabel='Temperature', ylabel='Pressure'>"
            ]
          },
          "metadata": {},
          "execution_count": 21
        },
        {
          "output_type": "display_data",
          "data": {
            "text/plain": [
              "<Figure size 640x480 with 1 Axes>"
            ],
            "image/png": "[encoded data removed]"
          },
          "metadata": {}
        }
      ],
      "source": [
        "sns.scatterplot(x='Temperature', y='Pressure', hue='Failure', data=data)"
      ]
    },
    {
      "cell_type": "code",
      "execution_count": 10,
      "metadata": {
        "colab": {
          "base_uri": "https://localhost:8080/",
          "height": 1000
        },
        "id": "2v5LS8qnsRKI",
        "outputId": "c894a80d-6dc2-481a-b392-b133ad88538d"
      },
      "outputs": [
        {
          "output_type": "display_data",
          "data": {
            "text/plain": [
              "<Figure size 1000x1000 with 9 Axes>"
            ],
            "image/png": "[encoded data removed]"
          },
          "metadata": {}
        }
      ],
      "source": [
        "import matplotlib.pyplot as plt\n",
        "import seaborn as sns\n",
        "\n",
        "# Select the features you want to plot (excluding 'Machine_ID' and 'Failure_Prediction')\n",
        "features_to_plot =['Temperature','Pressure','Humidity','Vibration','Load','RPM','Oil_Quality','Failure']\n",
        "\n",
        "# Create the histogram plot\n",
        "data[features_to_plot].hist(figsize=(10, 10), color='grey')\n",
        "plt.suptitle('Histogram of Features', fontsize=16) # Add a title to the entire figure\n",
        "plt.tight_layout() # Adjust layout to prevent overlapping\n"
      ]
    },
    {
      "cell_type": "code",
      "execution_count": 11,
      "metadata": {
        "colab": {
          "base_uri": "https://localhost:8080/",
          "height": 466
        },
        "id": "Mk0Z-fpikPlu",
        "outputId": "5016f8b8-68d6-48fa-a508-6e4cde10dc78"
      },
      "outputs": [
        {
          "output_type": "execute_result",
          "data": {
            "text/plain": [
              "<Axes: xlabel='Temperature', ylabel='Count'>"
            ]
          },
          "metadata": {},
          "execution_count": 11
        },
        {
          "output_type": "display_data",
          "data": {
            "text/plain": [
              "<Figure size 640x480 with 1 Axes>"
            ],
            "image/png": "[encoded data removed]"
          },
          "metadata": {}
        }
      ],
      "source": [
        "#histograme of temparature\n",
        "sns.histplot(data['Temperature'],color='red')"
      ]
    },
    {
      "cell_type": "code",
      "execution_count": null,
      "metadata": {
        "id": "rHf_Wrw7_Abp"
      },
      "outputs": [],
      "source": [
        "#pair plot with violet color\n",
        "#sns.pairplot(data,hue='Failure_Prediction',palette='viridis')"
      ]
    },
    {
      "cell_type": "code",
      "execution_count": 12,
      "metadata": {
        "id": "VapjKAWAfhYI"
      },
      "outputs": [],
      "source": [
        "# Split data into features (X) and target variable (y)\n",
        "X = data.drop('Failure', axis=1)\n",
        "y = data['Failure']"
      ]
    },
    {
      "cell_type": "code",
      "execution_count": 13,
      "metadata": {
        "id": "lEqDPD0devnI"
      },
      "outputs": [],
      "source": [
        "#split data into training and testing sets\n",
        "X_train, X_test, y_train, y_test = train_test_split(X, y, test_size=0.2, random_state=42)"
      ]
    },
    {
      "cell_type": "code",
      "execution_count": 14,
      "metadata": {
        "id": "2HYZyV7Af3wg"
      },
      "outputs": [],
      "source": [
        "#feature scalling\n",
        "scaler = StandardScaler()\n",
        "X_train = scaler.fit_transform(X_train)\n",
        "X_test = scaler.transform(X_test)"
      ]
    },
    {
      "cell_type": "markdown",
      "metadata": {
        "id": "9w19dNZbf-yH"
      },
      "source": [
        "**LOGISTIC** **REGRESSION**"
      ]
    },
    {
      "cell_type": "code",
      "execution_count": 15,
      "metadata": {
        "id": "_GTcN4Def8Yz"
      },
      "outputs": [],
      "source": [
        "# Choose a machine learning model (e.g., Logistic Regression)\n",
        "model = LogisticRegression()"
      ]
    },
    {
      "cell_type": "code",
      "execution_count": 16,
      "metadata": {
        "id": "tp6eYrHvgHaR",
        "colab": {
          "base_uri": "https://localhost:8080/",
          "height": 80
        },
        "outputId": "1f549298-a259-4cf6-b56f-90f8453023e3"
      },
      "outputs": [
        {
          "output_type": "execute_result",
          "data": {
            "text/plain": [
              "LogisticRegression()"
            ],
            "text/html": [
              "<style>#sk-container-id-1 {\n",
              "  /* Definition of color scheme common for light and dark mode */\n",
              "  --sklearn-color-text: #000;\n",
              "  --sklearn-color-text-muted: #666;\n",
              "  --sklearn-color-line: gray;\n",
              "  /* Definition of color scheme for unfitted estimators */\n",
              "  --sklearn-color-unfitted-level-0: #fff5e6;\n",
              "  --sklearn-color-unfitted-level-1: #f6e4d2;\n",
              "  --sklearn-color-unfitted-level-2: #ffe0b3;\n",
              "  --sklearn-color-unfitted-level-3: chocolate;\n",
              "  /* Definition of color scheme for fitted estimators */\n",
              "  --sklearn-color-fitted-level-0: #f0f8ff;\n",
              "  --sklearn-color-fitted-level-1: #d4ebff;\n",
              "  --sklearn-color-fitted-level-2: #b3dbfd;\n",
              "  --sklearn-color-fitted-level-3: cornflowerblue;\n",
              "\n",
              "  /* Specific color for light theme */\n",
              "  --sklearn-color-text-on-default-background: var(--sg-text-color, var(--theme-code-foreground, var(--jp-content-font-color1, black)));\n",
              "  --sklearn-color-background: var(--sg-background-color, var(--theme-background, var(--jp-layout-color0, white)));\n",
              "  --sklearn-color-border-box: var(--sg-text-color, var(--theme-code-foreground, var(--jp-content-font-color1, black)));\n",
              "  --sklearn-color-icon: #696969;\n",
              "\n",
              "  @media (prefers-color-scheme: dark) {\n",
              "    /* Redefinition of color scheme for dark theme */\n",
              "    --sklearn-color-text-on-default-background: var(--sg-text-color, var(--theme-code-foreground, var(--jp-content-font-color1, white)));\n",
              "    --sklearn-color-background: var(--sg-background-color, var(--theme-background, var(--jp-layout-color0, #111)));\n",
              "    --sklearn-color-border-box: var(--sg-text-color, var(--theme-code-foreground, var(--jp-content-font-color1, white)));\n",
              "    --sklearn-color-icon: #878787;\n",
              "  }\n",
              "}\n",
              "\n",
              "#sk-container-id-1 {\n",
              "  color: var(--sklearn-color-text);\n",
              "}\n",
              "\n",
              "#sk-container-id-1 pre {\n",
              "  padding: 0;\n",
              "}\n",
              "\n",
              "#sk-container-id-1 input.sk-hidden--visually {\n",
              "  border: 0;\n",
              "  clip: rect(1px 1px 1px 1px);\n",
              "  clip: rect(1px, 1px, 1px, 1px);\n",
              "  height: 1px;\n",
              "  margin: -1px;\n",
              "  overflow: hidden;\n",
              "  padding: 0;\n",
              "  position: absolute;\n",
              "  width: 1px;\n",
              "}\n",
              "\n",
              "#sk-container-id-1 div.sk-dashed-wrapped {\n",
              "  border: 1px dashed var(--sklearn-color-line);\n",
              "  margin: 0 0.4em 0.5em 0.4em;\n",
              "  box-sizing: border-box;\n",
              "  padding-bottom: 0.4em;\n",
              "  background-color: var(--sklearn-color-background);\n",
              "}\n",
              "\n",
              "#sk-container-id-1 div.sk-container {\n",
              "  /* jupyter's `normalize.less` sets `[hidden] { display: none; }`\n",
              "     but bootstrap.min.css set `[hidden] { display: none !important; }`\n",
              "     so we also need the `!important` here to be able to override the\n",
              "     default hidden behavior on the sphinx rendered scikit-learn.org.\n",
              "     See: https://github.com/scikit-learn/scikit-learn/issues/21755 */\n",
              "  display: inline-block !important;\n",
              "  position: relative;\n",
              "}\n",
              "\n",
              "#sk-container-id-1 div.sk-text-repr-fallback {\n",
              "  display: none;\n",
              "}\n",
              "\n",
              "div.sk-parallel-item,\n",
              "div.sk-serial,\n",
              "div.sk-item {\n",
              "  /* draw centered vertical line to link estimators */\n",
              "  background-image: linear-gradient(var(--sklearn-color-text-on-default-background), var(--sklearn-color-text-on-default-background));\n",
              "  background-size: 2px 100%;\n",
              "  background-repeat: no-repeat;\n",
              "  background-position: center center;\n",
              "}\n",
              "\n",
              "/* Parallel-specific style estimator block */\n",
              "\n",
              "#sk-container-id-1 div.sk-parallel-item::after {\n",
              "  content: \"\";\n",
              "  width: 100%;\n",
              "  border-bottom: 2px solid var(--sklearn-color-text-on-default-background);\n",
              "  flex-grow: 1;\n",
              "}\n",
              "\n",
              "#sk-container-id-1 div.sk-parallel {\n",
              "  display: flex;\n",
              "  align-items: stretch;\n",
              "  justify-content: center;\n",
              "  background-color: var(--sklearn-color-background);\n",
              "  position: relative;\n",
              "}\n",
              "\n",
              "#sk-container-id-1 div.sk-parallel-item {\n",
              "  display: flex;\n",
              "  flex-direction: column;\n",
              "}\n",
              "\n",
              "#sk-container-id-1 div.sk-parallel-item:first-child::after {\n",
              "  align-self: flex-end;\n",
              "  width: 50%;\n",
              "}\n",
              "\n",
              "#sk-container-id-1 div.sk-parallel-item:last-child::after {\n",
              "  align-self: flex-start;\n",
              "  width: 50%;\n",
              "}\n",
              "\n",
              "#sk-container-id-1 div.sk-parallel-item:only-child::after {\n",
              "  width: 0;\n",
              "}\n",
              "\n",
              "/* Serial-specific style estimator block */\n",
              "\n",
              "#sk-container-id-1 div.sk-serial {\n",
              "  display: flex;\n",
              "  flex-direction: column;\n",
              "  align-items: center;\n",
              "  background-color: var(--sklearn-color-background);\n",
              "  padding-right: 1em;\n",
              "  padding-left: 1em;\n",
              "}\n",
              "\n",
              "\n",
              "/* Toggleable style: style used for estimator/Pipeline/ColumnTransformer box that is\n",
              "clickable and can be expanded/collapsed.\n",
              "- Pipeline and ColumnTransformer use this feature and define the default style\n",
              "- Estimators will overwrite some part of the style using the `sk-estimator` class\n",
              "*/\n",
              "\n",
              "/* Pipeline and ColumnTransformer style (default) */\n",
              "\n",
              "#sk-container-id-1 div.sk-toggleable {\n",
              "  /* Default theme specific background. It is overwritten whether we have a\n",
              "  specific estimator or a Pipeline/ColumnTransformer */\n",
              "  background-color: var(--sklearn-color-background);\n",
              "}\n",
              "\n",
              "/* Toggleable label */\n",
              "#sk-container-id-1 label.sk-toggleable__label {\n",
              "  cursor: pointer;\n",
              "  display: flex;\n",
              "  width: 100%;\n",
              "  margin-bottom: 0;\n",
              "  padding: 0.5em;\n",
              "  box-sizing: border-box;\n",
              "  text-align: center;\n",
              "  align-items: start;\n",
              "  justify-content: space-between;\n",
              "  gap: 0.5em;\n",
              "}\n",
              "\n",
              "#sk-container-id-1 label.sk-toggleable__label .caption {\n",
              "  font-size: 0.6rem;\n",
              "  font-weight: lighter;\n",
              "  color: var(--sklearn-color-text-muted);\n",
              "}\n",
              "\n",
              "#sk-container-id-1 label.sk-toggleable__label-arrow:before {\n",
              "  /* Arrow on the left of the label */\n",
              "  content: \"▸\";\n",
              "  float: left;\n",
              "  margin-right: 0.25em;\n",
              "  color: var(--sklearn-color-icon);\n",
              "}\n",
              "\n",
              "#sk-container-id-1 label.sk-toggleable__label-arrow:hover:before {\n",
              "  color: var(--sklearn-color-text);\n",
              "}\n",
              "\n",
              "/* Toggleable content - dropdown */\n",
              "\n",
              "#sk-container-id-1 div.sk-toggleable__content {\n",
              "  max-height: 0;\n",
              "  max-width: 0;\n",
              "  overflow: hidden;\n",
              "  text-align: left;\n",
              "  /* unfitted */\n",
              "  background-color: var(--sklearn-color-unfitted-level-0);\n",
              "}\n",
              "\n",
              "#sk-container-id-1 div.sk-toggleable__content.fitted {\n",
              "  /* fitted */\n",
              "  background-color: var(--sklearn-color-fitted-level-0);\n",
              "}\n",
              "\n",
              "#sk-container-id-1 div.sk-toggleable__content pre {\n",
              "  margin: 0.2em;\n",
              "  border-radius: 0.25em;\n",
              "  color: var(--sklearn-color-text);\n",
              "  /* unfitted */\n",
              "  background-color: var(--sklearn-color-unfitted-level-0);\n",
              "}\n",
              "\n",
              "#sk-container-id-1 div.sk-toggleable__content.fitted pre {\n",
              "  /* unfitted */\n",
              "  background-color: var(--sklearn-color-fitted-level-0);\n",
              "}\n",
              "\n",
              "#sk-container-id-1 input.sk-toggleable__control:checked~div.sk-toggleable__content {\n",
              "  /* Expand drop-down */\n",
              "  max-height: 200px;\n",
              "  max-width: 100%;\n",
              "  overflow: auto;\n",
              "}\n",
              "\n",
              "#sk-container-id-1 input.sk-toggleable__control:checked~label.sk-toggleable__label-arrow:before {\n",
              "  content: \"▾\";\n",
              "}\n",
              "\n",
              "/* Pipeline/ColumnTransformer-specific style */\n",
              "\n",
              "#sk-container-id-1 div.sk-label input.sk-toggleable__control:checked~label.sk-toggleable__label {\n",
              "  color: var(--sklearn-color-text);\n",
              "  background-color: var(--sklearn-color-unfitted-level-2);\n",
              "}\n",
              "\n",
              "#sk-container-id-1 div.sk-label.fitted input.sk-toggleable__control:checked~label.sk-toggleable__label {\n",
              "  background-color: var(--sklearn-color-fitted-level-2);\n",
              "}\n",
              "\n",
              "/* Estimator-specific style */\n",
              "\n",
              "/* Colorize estimator box */\n",
              "#sk-container-id-1 div.sk-estimator input.sk-toggleable__control:checked~label.sk-toggleable__label {\n",
              "  /* unfitted */\n",
              "  background-color: var(--sklearn-color-unfitted-level-2);\n",
              "}\n",
              "\n",
              "#sk-container-id-1 div.sk-estimator.fitted input.sk-toggleable__control:checked~label.sk-toggleable__label {\n",
              "  /* fitted */\n",
              "  background-color: var(--sklearn-color-fitted-level-2);\n",
              "}\n",
              "\n",
              "#sk-container-id-1 div.sk-label label.sk-toggleable__label,\n",
              "#sk-container-id-1 div.sk-label label {\n",
              "  /* The background is the default theme color */\n",
              "  color: var(--sklearn-color-text-on-default-background);\n",
              "}\n",
              "\n",
              "/* On hover, darken the color of the background */\n",
              "#sk-container-id-1 div.sk-label:hover label.sk-toggleable__label {\n",
              "  color: var(--sklearn-color-text);\n",
              "  background-color: var(--sklearn-color-unfitted-level-2);\n",
              "}\n",
              "\n",
              "/* Label box, darken color on hover, fitted */\n",
              "#sk-container-id-1 div.sk-label.fitted:hover label.sk-toggleable__label.fitted {\n",
              "  color: var(--sklearn-color-text);\n",
              "  background-color: var(--sklearn-color-fitted-level-2);\n",
              "}\n",
              "\n",
              "/* Estimator label */\n",
              "\n",
              "#sk-container-id-1 div.sk-label label {\n",
              "  font-family: monospace;\n",
              "  font-weight: bold;\n",
              "  display: inline-block;\n",
              "  line-height: 1.2em;\n",
              "}\n",
              "\n",
              "#sk-container-id-1 div.sk-label-container {\n",
              "  text-align: center;\n",
              "}\n",
              "\n",
              "/* Estimator-specific */\n",
              "#sk-container-id-1 div.sk-estimator {\n",
              "  font-family: monospace;\n",
              "  border: 1px dotted var(--sklearn-color-border-box);\n",
              "  border-radius: 0.25em;\n",
              "  box-sizing: border-box;\n",
              "  margin-bottom: 0.5em;\n",
              "  /* unfitted */\n",
              "  background-color: var(--sklearn-color-unfitted-level-0);\n",
              "}\n",
              "\n",
              "#sk-container-id-1 div.sk-estimator.fitted {\n",
              "  /* fitted */\n",
              "  background-color: var(--sklearn-color-fitted-level-0);\n",
              "}\n",
              "\n",
              "/* on hover */\n",
              "#sk-container-id-1 div.sk-estimator:hover {\n",
              "  /* unfitted */\n",
              "  background-color: var(--sklearn-color-unfitted-level-2);\n",
              "}\n",
              "\n",
              "#sk-container-id-1 div.sk-estimator.fitted:hover {\n",
              "  /* fitted */\n",
              "  background-color: var(--sklearn-color-fitted-level-2);\n",
              "}\n",
              "\n",
              "/* Specification for estimator info (e.g. \"i\" and \"?\") */\n",
              "\n",
              "/* Common style for \"i\" and \"?\" */\n",
              "\n",
              ".sk-estimator-doc-link,\n",
              "a:link.sk-estimator-doc-link,\n",
              "a:visited.sk-estimator-doc-link {\n",
              "  float: right;\n",
              "  font-size: smaller;\n",
              "  line-height: 1em;\n",
              "  font-family: monospace;\n",
              "  background-color: var(--sklearn-color-background);\n",
              "  border-radius: 1em;\n",
              "  height: 1em;\n",
              "  width: 1em;\n",
              "  text-decoration: none !important;\n",
              "  margin-left: 0.5em;\n",
              "  text-align: center;\n",
              "  /* unfitted */\n",
              "  border: var(--sklearn-color-unfitted-level-1) 1pt solid;\n",
              "  color: var(--sklearn-color-unfitted-level-1);\n",
              "}\n",
              "\n",
              ".sk-estimator-doc-link.fitted,\n",
              "a:link.sk-estimator-doc-link.fitted,\n",
              "a:visited.sk-estimator-doc-link.fitted {\n",
              "  /* fitted */\n",
              "  border: var(--sklearn-color-fitted-level-1) 1pt solid;\n",
              "  color: var(--sklearn-color-fitted-level-1);\n",
              "}\n",
              "\n",
              "/* On hover */\n",
              "div.sk-estimator:hover .sk-estimator-doc-link:hover,\n",
              ".sk-estimator-doc-link:hover,\n",
              "div.sk-label-container:hover .sk-estimator-doc-link:hover,\n",
              ".sk-estimator-doc-link:hover {\n",
              "  /* unfitted */\n",
              "  background-color: var(--sklearn-color-unfitted-level-3);\n",
              "  color: var(--sklearn-color-background);\n",
              "  text-decoration: none;\n",
              "}\n",
              "\n",
              "div.sk-estimator.fitted:hover .sk-estimator-doc-link.fitted:hover,\n",
              ".sk-estimator-doc-link.fitted:hover,\n",
              "div.sk-label-container:hover .sk-estimator-doc-link.fitted:hover,\n",
              ".sk-estimator-doc-link.fitted:hover {\n",
              "  /* fitted */\n",
              "  background-color: var(--sklearn-color-fitted-level-3);\n",
              "  color: var(--sklearn-color-background);\n",
              "  text-decoration: none;\n",
              "}\n",
              "\n",
              "/* Span, style for the box shown on hovering the info icon */\n",
              ".sk-estimator-doc-link span {\n",
              "  display: none;\n",
              "  z-index: 9999;\n",
              "  position: relative;\n",
              "  font-weight: normal;\n",
              "  right: .2ex;\n",
              "  padding: .5ex;\n",
              "  margin: .5ex;\n",
              "  width: min-content;\n",
              "  min-width: 20ex;\n",
              "  max-width: 50ex;\n",
              "  color: var(--sklearn-color-text);\n",
              "  box-shadow: 2pt 2pt 4pt #999;\n",
              "  /* unfitted */\n",
              "  background: var(--sklearn-color-unfitted-level-0);\n",
              "  border: .5pt solid var(--sklearn-color-unfitted-level-3);\n",
              "}\n",
              "\n",
              ".sk-estimator-doc-link.fitted span {\n",
              "  /* fitted */\n",
              "  background: var(--sklearn-color-fitted-level-0);\n",
              "  border: var(--sklearn-color-fitted-level-3);\n",
              "}\n",
              "\n",
              ".sk-estimator-doc-link:hover span {\n",
              "  display: block;\n",
              "}\n",
              "\n",
              "/* \"?\"-specific style due to the `<a>` HTML tag */\n",
              "\n",
              "#sk-container-id-1 a.estimator_doc_link {\n",
              "  float: right;\n",
              "  font-size: 1rem;\n",
              "  line-height: 1em;\n",
              "  font-family: monospace;\n",
              "  background-color: var(--sklearn-color-background);\n",
              "  border-radius: 1rem;\n",
              "  height: 1rem;\n",
              "  width: 1rem;\n",
              "  text-decoration: none;\n",
              "  /* unfitted */\n",
              "  color: var(--sklearn-color-unfitted-level-1);\n",
              "  border: var(--sklearn-color-unfitted-level-1) 1pt solid;\n",
              "}\n",
              "\n",
              "#sk-container-id-1 a.estimator_doc_link.fitted {\n",
              "  /* fitted */\n",
              "  border: var(--sklearn-color-fitted-level-1) 1pt solid;\n",
              "  color: var(--sklearn-color-fitted-level-1);\n",
              "}\n",
              "\n",
              "/* On hover */\n",
              "#sk-container-id-1 a.estimator_doc_link:hover {\n",
              "  /* unfitted */\n",
              "  background-color: var(--sklearn-color-unfitted-level-3);\n",
              "  color: var(--sklearn-color-background);\n",
              "  text-decoration: none;\n",
              "}\n",
              "\n",
              "#sk-container-id-1 a.estimator_doc_link.fitted:hover {\n",
              "  /* fitted */\n",
              "  background-color: var(--sklearn-color-fitted-level-3);\n",
              "}\n",
              "</style><div id=\"sk-container-id-1\" class=\"sk-top-container\"><div class=\"sk-text-repr-fallback\"><pre>LogisticRegression()</pre><b>In a Jupyter environment, please rerun this cell to show the HTML representation or trust the notebook. <br />On GitHub, the HTML representation is unable to render, please try loading this page with nbviewer.org.</b></div><div class=\"sk-container\" hidden><div class=\"sk-item\"><div class=\"sk-estimator fitted sk-toggleable\"><input class=\"sk-toggleable__control sk-hidden--visually\" id=\"sk-estimator-id-1\" type=\"checkbox\" checked><label for=\"sk-estimator-id-1\" class=\"sk-toggleable__label fitted sk-toggleable__label-arrow\"><div><div>LogisticRegression</div></div><div><a class=\"sk-estimator-doc-link fitted\" rel=\"noreferrer\" target=\"_blank\" href=\"https://scikit-learn.org/1.6/modules/generated/sklearn.linear_model.LogisticRegression.html\">?<span>Documentation for LogisticRegression</span></a><span class=\"sk-estimator-doc-link fitted\">i<span>Fitted</span></span></div></label><div class=\"sk-toggleable__content fitted\"><pre>LogisticRegression()</pre></div> </div></div></div></div>"
            ]
          },
          "metadata": {},
          "execution_count": 16
        }
      ],
      "source": [
        "#Train the model\n",
        "model.fit(X_train, y_train)"
      ]
    },
    {
      "cell_type": "code",
      "execution_count": 17,
      "metadata": {
        "id": "cA_FqV7jgNFi"
      },
      "outputs": [],
      "source": [
        "y_pred = model.predict(X_test)"
      ]
    },
    {
      "cell_type": "code",
      "execution_count": 18,
      "metadata": {
        "id": "O1qhL-WKgX6U",
        "colab": {
          "base_uri": "https://localhost:8080/"
        },
        "outputId": "93d8d362-4f06-492f-cb27-e61ec589939b"
      },
      "outputs": [
        {
          "output_type": "execute_result",
          "data": {
            "text/plain": [
              "0.89025"
            ]
          },
          "metadata": {},
          "execution_count": 18
        }
      ],
      "source": [
        "model.score(X_train,y_train)"
      ]
    },
    {
      "cell_type": "code",
      "execution_count": 19,
      "metadata": {
        "id": "4lKYTYJxgZQb",
        "colab": {
          "base_uri": "https://localhost:8080/"
        },
        "outputId": "afab3c36-b584-4f78-f51c-f6715c359286"
      },
      "outputs": [
        {
          "output_type": "execute_result",
          "data": {
            "text/plain": [
              "0.888"
            ]
          },
          "metadata": {},
          "execution_count": 19
        }
      ],
      "source": [
        "model.score(X_test,y_test)"
      ]
    },
    {
      "cell_type": "markdown",
      "metadata": {
        "id": "NrwZ41T6gjT-"
      },
      "source": [
        "**RANDOM** **FOREST**"
      ]
    },
    {
      "cell_type": "code",
      "execution_count": 20,
      "metadata": {
        "id": "QE9Q_yXmgbZ6"
      },
      "outputs": [],
      "source": [
        "model2=RandomForestClassifier()\n",
        "model2.fit(X_train,y_train)\n",
        "\n",
        "y_pred=model2.predict(X_test)"
      ]
    },
    {
      "cell_type": "code",
      "source": [
        "model2.score(X_train,y_train)"
      ],
      "metadata": {
        "colab": {
          "base_uri": "https://localhost:8080/"
        },
        "id": "OrT9P_kmn-eR",
        "outputId": "45625d11-1830-4d1c-df51-7dcad3e4ed41"
      },
      "execution_count": 21,
      "outputs": [
        {
          "output_type": "execute_result",
          "data": {
            "text/plain": [
              "1.0"
            ]
          },
          "metadata": {},
          "execution_count": 21
        }
      ]
    },
    {
      "cell_type": "code",
      "execution_count": 22,
      "metadata": {
        "id": "OLQoYa8hgssY",
        "colab": {
          "base_uri": "https://localhost:8080/"
        },
        "outputId": "08a0ed45-d96b-47b9-aa90-664b52ac165e"
      },
      "outputs": [
        {
          "output_type": "execute_result",
          "data": {
            "text/plain": [
              "0.954"
            ]
          },
          "metadata": {},
          "execution_count": 22
        }
      ],
      "source": [
        "model2.score(X_test,y_test)"
      ]
    },
    {
      "cell_type": "markdown",
      "metadata": {
        "id": "avhGuNakguzd"
      },
      "source": [
        "**DECISION** **TREE** **CLASSIFIER**"
      ]
    },
    {
      "cell_type": "code",
      "execution_count": 23,
      "metadata": {
        "id": "_GtFIUSagtkJ",
        "colab": {
          "base_uri": "https://localhost:8080/"
        },
        "outputId": "34d40410-b99e-4105-c7de-ae1e306c1bb3"
      },
      "outputs": [
        {
          "output_type": "execute_result",
          "data": {
            "text/plain": [
              "0.89025"
            ]
          },
          "metadata": {},
          "execution_count": 23
        }
      ],
      "source": [
        "model3=DecisionTreeClassifier()\n",
        "\n",
        "#train the model\n",
        "model3.fit(X_train,y_train)\n",
        "\n",
        "y_pred=model3.predict(X_test)\n",
        "\n",
        "model.score(X_train,y_train)"
      ]
    },
    {
      "cell_type": "code",
      "execution_count": 24,
      "metadata": {
        "id": "2guuNMU_hAPB",
        "colab": {
          "base_uri": "https://localhost:8080/"
        },
        "outputId": "691b25d2-d6d6-416f-d4e7-afbd60028e14"
      },
      "outputs": [
        {
          "output_type": "execute_result",
          "data": {
            "text/plain": [
              "0.888"
            ]
          },
          "metadata": {},
          "execution_count": 24
        }
      ],
      "source": [
        "model.score(X_test,y_test)"
      ]
    },
    {
      "cell_type": "markdown",
      "metadata": {
        "id": "9HrKHX4BhI5M"
      },
      "source": [
        "**SUPPORT** **VECTOR** **MACHINE**"
      ]
    },
    {
      "cell_type": "code",
      "source": [
        "model4= SVC()\n",
        "model4.fit(X_train, y_train)\n",
        "y_pred = model4.predict(X_test)\n",
        "model4.score(X_train,y_train)"
      ],
      "metadata": {
        "colab": {
          "base_uri": "https://localhost:8080/"
        },
        "id": "6T2po_JVaD_e",
        "outputId": "7e990bf3-601f-4800-db04-dc08d7f4033a"
      },
      "execution_count": 25,
      "outputs": [
        {
          "output_type": "execute_result",
          "data": {
            "text/plain": [
              "0.93525"
            ]
          },
          "metadata": {},
          "execution_count": 25
        }
      ]
    },
    {
      "cell_type": "code",
      "source": [
        "model4.score(X_test,y_test)"
      ],
      "metadata": {
        "colab": {
          "base_uri": "https://localhost:8080/"
        },
        "id": "YA51SMuZod8T",
        "outputId": "7bab5b89-78f4-47e0-99da-d1ddad7ba5c4"
      },
      "execution_count": 26,
      "outputs": [
        {
          "output_type": "execute_result",
          "data": {
            "text/plain": [
              "0.917"
            ]
          },
          "metadata": {},
          "execution_count": 26
        }
      ]
    },
    {
      "cell_type": "code",
      "execution_count": 27,
      "metadata": {
        "id": "WXzvjmwYhUHw",
        "colab": {
          "base_uri": "https://localhost:8080/"
        },
        "outputId": "0f00a7a3-6d38-49e1-c180-f3ab0d45f8d2"
      },
      "outputs": [
        {
          "output_type": "execute_result",
          "data": {
            "text/plain": [
              "0.88675"
            ]
          },
          "metadata": {},
          "execution_count": 27
        }
      ],
      "source": [
        "#linear\n",
        "svm=SVC(kernel='linear')\n",
        "svm.fit(X_train,y_train)\n",
        "svm.score(X_train,y_train)"
      ]
    },
    {
      "cell_type": "code",
      "source": [
        "svm.score(X_test,y_test)"
      ],
      "metadata": {
        "colab": {
          "base_uri": "https://localhost:8080/"
        },
        "id": "6LvzEjRNohXl",
        "outputId": "ad786321-3b1a-44ec-942e-dca20a4a8a7f"
      },
      "execution_count": 28,
      "outputs": [
        {
          "output_type": "execute_result",
          "data": {
            "text/plain": [
              "0.8845"
            ]
          },
          "metadata": {},
          "execution_count": 28
        }
      ]
    },
    {
      "cell_type": "code",
      "execution_count": 29,
      "metadata": {
        "id": "9ooQHtTWmaza",
        "colab": {
          "base_uri": "https://localhost:8080/"
        },
        "outputId": "878f9892-0d59-4ae9-a232-934177ae2b45"
      },
      "outputs": [
        {
          "output_type": "execute_result",
          "data": {
            "text/plain": [
              "0.921"
            ]
          },
          "metadata": {},
          "execution_count": 29
        }
      ],
      "source": [
        "#poly\n",
        "svm1=SVC(kernel='poly')\n",
        "svm1.fit(X_train,y_train)\n",
        "svm1.score(X_train,y_train)"
      ]
    },
    {
      "cell_type": "code",
      "source": [
        "svm1.score(X_test,y_test)"
      ],
      "metadata": {
        "colab": {
          "base_uri": "https://localhost:8080/"
        },
        "id": "Bs914-evolup",
        "outputId": "a86e90f8-5065-4d1b-a238-20616cf5e1a8"
      },
      "execution_count": 30,
      "outputs": [
        {
          "output_type": "execute_result",
          "data": {
            "text/plain": [
              "0.911"
            ]
          },
          "metadata": {},
          "execution_count": 30
        }
      ]
    },
    {
      "cell_type": "code",
      "execution_count": 31,
      "metadata": {
        "id": "DXOMIBDameBk",
        "colab": {
          "base_uri": "https://localhost:8080/"
        },
        "outputId": "a9f72bdc-c179-43be-a680-4c6ae2bcdb24"
      },
      "outputs": [
        {
          "output_type": "execute_result",
          "data": {
            "text/plain": [
              "0.8135"
            ]
          },
          "metadata": {},
          "execution_count": 31
        }
      ],
      "source": [
        "#sigmoid\n",
        "svm2=SVC(kernel='sigmoid')\n",
        "svm2.fit(X_train,y_train)\n",
        "svm2.score(X_train,y_train)"
      ]
    },
    {
      "cell_type": "code",
      "source": [
        "svm2.score(X_test,y_test)"
      ],
      "metadata": {
        "colab": {
          "base_uri": "https://localhost:8080/"
        },
        "id": "cVcxF_wcowzi",
        "outputId": "9d0b862e-2324-4d80-e019-c56781dfafa5"
      },
      "execution_count": 32,
      "outputs": [
        {
          "output_type": "execute_result",
          "data": {
            "text/plain": [
              "0.8245"
            ]
          },
          "metadata": {},
          "execution_count": 32
        }
      ]
    },
    {
      "cell_type": "code",
      "execution_count": 33,
      "metadata": {
        "id": "VsGq897rmnFF",
        "colab": {
          "base_uri": "https://localhost:8080/"
        },
        "outputId": "8638ff57-6fa6-410b-b649-f6503020b32a"
      },
      "outputs": [
        {
          "output_type": "execute_result",
          "data": {
            "text/plain": [
              "0.93525"
            ]
          },
          "metadata": {},
          "execution_count": 33
        }
      ],
      "source": [
        "#rbf\n",
        "svm3=SVC(kernel='rbf')\n",
        "svm3.fit(X_train,y_train)\n",
        "svm3.score(X_train,y_train)"
      ]
    },
    {
      "cell_type": "code",
      "source": [
        "svm3.score(X_test,y_test)"
      ],
      "metadata": {
        "colab": {
          "base_uri": "https://localhost:8080/"
        },
        "id": "cQozxIDSo2S3",
        "outputId": "b451f64a-6cec-4209-8462-fd96bcfe2f31"
      },
      "execution_count": 34,
      "outputs": [
        {
          "output_type": "execute_result",
          "data": {
            "text/plain": [
              "0.917"
            ]
          },
          "metadata": {},
          "execution_count": 34
        }
      ]
    },
    {
      "cell_type": "markdown",
      "metadata": {
        "id": "qOtqW-7Zu_73"
      },
      "source": [
        "**K NEAREST NIEBOUR**"
      ]
    },
    {
      "cell_type": "code",
      "execution_count": 35,
      "metadata": {
        "id": "15t2ulvdvKhA",
        "colab": {
          "base_uri": "https://localhost:8080/"
        },
        "outputId": "d156c1ae-acc8-49bd-ccad-a8edf381d299"
      },
      "outputs": [
        {
          "output_type": "execute_result",
          "data": {
            "text/plain": [
              "0.932125"
            ]
          },
          "metadata": {},
          "execution_count": 35
        }
      ],
      "source": [
        "#KNN\n",
        "model5=KNeighborsClassifier()\n",
        "model5.fit(X_train,y_train)\n",
        "\n",
        "y_pred=model5.predict(X_test)\n",
        "\n",
        "model5.score(X_train,y_train)"
      ]
    },
    {
      "cell_type": "code",
      "source": [
        "model5.score(X_test,y_test)"
      ],
      "metadata": {
        "colab": {
          "base_uri": "https://localhost:8080/"
        },
        "id": "j63N0fYRo9-U",
        "outputId": "78623b4c-e27a-401a-fd15-5f769b59ce98"
      },
      "execution_count": 36,
      "outputs": [
        {
          "output_type": "execute_result",
          "data": {
            "text/plain": [
              "0.9065"
            ]
          },
          "metadata": {},
          "execution_count": 36
        }
      ]
    },
    {
      "cell_type": "markdown",
      "metadata": {
        "id": "khYTkxONvr8w"
      },
      "source": [
        "**NAIVE BAYES**"
      ]
    },
    {
      "cell_type": "code",
      "execution_count": 37,
      "metadata": {
        "id": "kYBzwo-0vvRf",
        "colab": {
          "base_uri": "https://localhost:8080/"
        },
        "outputId": "43093504-ecc4-46b1-9151-b8f1f2ea5590"
      },
      "outputs": [
        {
          "output_type": "execute_result",
          "data": {
            "text/plain": [
              "0.892375"
            ]
          },
          "metadata": {},
          "execution_count": 37
        }
      ],
      "source": [
        "#Naive Bias\n",
        "model6=GaussianNB()\n",
        "model6.fit(X_train,y_train)\n",
        "\n",
        "y_pred=model6.predict(X_test)\n",
        "\n",
        "model6.score(X_train,y_train)"
      ]
    },
    {
      "cell_type": "code",
      "source": [
        "model6.score(X_test,y_test)"
      ],
      "metadata": {
        "colab": {
          "base_uri": "https://localhost:8080/"
        },
        "id": "cYnbYRyUs1Si",
        "outputId": "78d7f036-2488-4f28-fcf5-dbd09fc51796"
      },
      "execution_count": 38,
      "outputs": [
        {
          "output_type": "execute_result",
          "data": {
            "text/plain": [
              "0.891"
            ]
          },
          "metadata": {},
          "execution_count": 38
        }
      ]
    },
    {
      "cell_type": "markdown",
      "metadata": {
        "id": "LS_7l-STC_dQ"
      },
      "source": [
        "**XG BOOSTING**"
      ]
    },
    {
      "cell_type": "code",
      "source": [
        "#xgbooster\n",
        "model7=XGBClassifier()\n",
        "\n",
        "model7.fit(X_train,y_train)\n",
        "\n",
        "y_pred=model7.predict(X_test)\n",
        "\n",
        "model7.score(X_train,y_train)"
      ],
      "metadata": {
        "colab": {
          "base_uri": "https://localhost:8080/"
        },
        "id": "Xs0IL76XewzI",
        "outputId": "46bfe035-7a58-4209-8ec7-98b17f4ebcaf"
      },
      "execution_count": 39,
      "outputs": [
        {
          "output_type": "execute_result",
          "data": {
            "text/plain": [
              "1.0"
            ]
          },
          "metadata": {},
          "execution_count": 39
        }
      ]
    },
    {
      "cell_type": "code",
      "source": [
        "model7.score(X_test,y_test)"
      ],
      "metadata": {
        "colab": {
          "base_uri": "https://localhost:8080/"
        },
        "id": "63qGQ94fs71g",
        "outputId": "60367eb7-9aae-47c5-c147-02acacc8b93b"
      },
      "execution_count": 40,
      "outputs": [
        {
          "output_type": "execute_result",
          "data": {
            "text/plain": [
              "0.949"
            ]
          },
          "metadata": {},
          "execution_count": 40
        }
      ]
    },
    {
      "cell_type": "markdown",
      "metadata": {
        "id": "-6q2NZgWwLOt"
      },
      "source": [
        "**ENSEMBLE MODEL**"
      ]
    },
    {
      "cell_type": "code",
      "source": [
        "ensemble_model = GaussianNB()\n",
        "ensemble_model.fit(X_train, y_train)\n",
        "y_pred_ensemble = ensemble_model.predict(X_test)\n",
        "accuracy_ensemble = accuracy_score(y_test, y_pred_ensemble)\n",
        "print(\"Ensemble Model Accuracy:\", accuracy_ensemble)\n"
      ],
      "metadata": {
        "colab": {
          "base_uri": "https://localhost:8080/"
        },
        "id": "-nbrVi3tfpRs",
        "outputId": "3d906d18-df3f-4a1a-dc25-396595c4828f"
      },
      "execution_count": 41,
      "outputs": [
        {
          "output_type": "stream",
          "name": "stdout",
          "text": [
            "Ensemble Model Accuracy: 0.891\n"
          ]
        }
      ]
    },
    {
      "cell_type": "markdown",
      "metadata": {
        "id": "f8C_T8PUw4yv"
      },
      "source": [
        "**CROSS VALIDATION**"
      ]
    },
    {
      "cell_type": "code",
      "source": [
        "from sklearn.model_selection import cross_val_score\n",
        "\n",
        "ensemble_model = RandomForestClassifier()\n",
        "ensemble_model.fit(X_train, y_train)\n",
        "\n",
        "# Now cross_val_score should work correctly\n",
        "scores = cross_val_score(ensemble_model, X, y, cv=5, scoring='accuracy')\n",
        "print(\"Cross-validation scores:\", scores)\n",
        "print(\"Mean accuracy scores:\", scores.mean())\n"
      ],
      "metadata": {
        "colab": {
          "base_uri": "https://localhost:8080/"
        },
        "id": "AVb0RpJOtu2s",
        "outputId": "e05bb070-14ab-4a98-c442-73e6c1054c16"
      },
      "execution_count": 42,
      "outputs": [
        {
          "output_type": "stream",
          "name": "stdout",
          "text": [
            "Cross-validation scores: [0.9585 0.9525 0.9535 0.9495 0.9525]\n",
            "Mean accuracy scores: 0.9532999999999999\n"
          ]
        }
      ]
    },
    {
      "cell_type": "markdown",
      "metadata": {
        "id": "n2P0QBm_0WVa"
      },
      "source": [
        "**GridSearchCV**"
      ]
    },
    {
      "cell_type": "code",
      "source": [
        "param_grid = {\n",
        "    \"Random Forest\": {\"n_estimators\": [50, 100, 200], \"max_depth\": [None, 10, 20]},\n",
        "    \"Support Vector Machine\": {\"C\": [0.1, 1, 10], \"kernel\": [\"linear\", \"rbf\"]},\n",
        "    \"K-Nearest Neighbors\": {\"n_neighbors\": [3, 5, 7]},\n",
        "    \"Decision Tree\": {\"max_depth\": [None, 5, 10]}\n",
        "}\n",
        "\n",
        "# Define the models you want to use in a dictionary\n",
        "models = {\n",
        "    \"Random Forest\": RandomForestClassifier(),\n",
        "    \"Support Vector Machine\": SVC(),\n",
        "    \"K-Nearest Neighbors\": KNeighborsClassifier(),\n",
        "    \"Decision Tree\": DecisionTreeClassifier()\n",
        "}\n",
        "\n",
        "best_models = {}\n",
        "for name, params in param_grid.items():\n",
        "    grid_search = GridSearchCV(models[name], params, cv=5, scoring=\"accuracy\") # Now using the 'models' dictionary\n",
        "    grid_search.fit(X_train, y_train) # Assuming X_train_scaled is a typo and should be X_train\n",
        "    best_models[name] = grid_search.best_estimator_\n",
        "    print(f\"Best parameters for {name}: {grid_search.best_params_}\")"
      ],
      "metadata": {
        "colab": {
          "base_uri": "https://localhost:8080/"
        },
        "id": "qIlcLHaEyh5w",
        "outputId": "7a324e94-3e19-4bab-8ccc-b9d43cd1c001"
      },
      "execution_count": 43,
      "outputs": [
        {
          "output_type": "stream",
          "name": "stdout",
          "text": [
            "Best parameters for Random Forest: {'max_depth': 10, 'n_estimators': 200}\n",
            "Best parameters for Support Vector Machine: {'C': 1, 'kernel': 'rbf'}\n",
            "Best parameters for K-Nearest Neighbors: {'n_neighbors': 5}\n",
            "Best parameters for Decision Tree: {'max_depth': 5}\n"
          ]
        }
      ]
    },
    {
      "cell_type": "code",
      "source": [
        "# Feature importance (for tree-based models)\n",
        "rf = best_models[\"Random Forest\"]\n",
        "importances = rf.feature_importances_\n",
        "feature_names = X.columns\n",
        "\n",
        "plt.figure(figsize=(10, 6))\n",
        "sns.barplot(x=importances, y=feature_names)\n",
        "plt.title(\"Feature Importance\")\n",
        "plt.show()"
      ],
      "metadata": {
        "colab": {
          "base_uri": "https://localhost:8080/",
          "height": 545
        },
        "id": "AvDXv3d7BlSB",
        "outputId": "6ffc5875-9184-4644-eb03-a9ab56a0d9f7"
      },
      "execution_count": 44,
      "outputs": [
        {
          "output_type": "display_data",
          "data": {
            "text/plain": [
              "<Figure size 1000x600 with 1 Axes>"
            ],
            "image/png": "[encoded data removed]"
          },
          "metadata": {}
        }
      ]
    },
    {
      "cell_type": "code",
      "source": [
        "#joblib\n",
        "import joblib\n",
        "joblib.dump(best_models,'project.pkl')"
      ],
      "metadata": {
        "colab": {
          "base_uri": "https://localhost:8080/"
        },
        "id": "4TcYXW6DBQQy",
        "outputId": "ea9375de-598e-476d-b136-d1e70b60555e"
      },
      "execution_count": 45,
      "outputs": [
        {
          "output_type": "execute_result",
          "data": {
            "text/plain": [
              "['project.pkl']"
            ]
          },
          "metadata": {},
          "execution_count": 45
        }
      ]
    },
    {
      "cell_type": "code",
      "source": [],
      "metadata": {
        "id": "t6WKxvgaBWDf"
      },
      "execution_count": null,
      "outputs": []
    }
  ],
  "metadata": {
    "colab": {
      "provenance": []
    },
    "kernelspec": {
      "display_name": "Python 3",
      "name": "python3"
    },
    "language_info": {
      "name": "python"
    }
  },
  "nbformat": 4,
  "nbformat_minor": 0
}